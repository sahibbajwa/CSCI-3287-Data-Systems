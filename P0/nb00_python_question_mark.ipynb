{
 "cells": [
  {
   "cell_type": "markdown",
   "metadata": {
    "colab_type": "text",
    "id": "M5QdENno1LX9"
   },
   "source": [
    "# Notebook 0: A ridiculously brief introduction to Python\n",
    "\n",
    "There are numerous tutorials and primers on Python that can be found through a cursory internet search.\n",
    "\n",
    "In my experience, ***actually doing stuff*** is the best way to learn a new language though. Enter: [HackerRank](https://www.hackerrank.com/domains/python).\n",
    "\n",
    "Now, since you're in CSCI 3022, you have a good amount of experience with at least one programming language (probably C++). Part of the challenge of progressing in a computing education is to learn new languages and to map what you already know in one language to the new setting.\n",
    "\n",
    "Python is increasing in prevalence, in particular among data scientists. And it is object-oriented and row-major, making it a relatively natural next step after C++.\n",
    "\n",
    "So, without further ado, let's go over a few rudimentary operations in Python!\n",
    "\n",
    "![image](https://pbs.twimg.com/media/DLXlTRxUEAsKkkT.jpg:large)"
   ]
  },
  {
   "cell_type": "markdown",
   "metadata": {
    "colab_type": "text",
    "id": "3NQOrFDW1LX-"
   },
   "source": [
    "### Arithmetic in Python 3"
   ]
  },
  {
   "cell_type": "code",
   "execution_count": 1,
   "metadata": {
    "colab": {},
    "colab_type": "code",
    "id": "5BfbBvaD1LX_"
   },
   "outputs": [
    {
     "data": {
      "text/plain": [
       "18"
      ]
     },
     "execution_count": 1,
     "metadata": {},
     "output_type": "execute_result"
    }
   ],
   "source": [
    "# addition\n",
    "x = 13\n",
    "y = 5\n",
    "x + y"
   ]
  },
  {
   "cell_type": "code",
   "execution_count": 35,
   "metadata": {
    "colab": {},
    "colab_type": "code",
    "id": "dZ2b3ZIk1LYC"
   },
   "outputs": [
    {
     "data": {
      "text/plain": [
       "25"
      ]
     },
     "execution_count": 35,
     "metadata": {},
     "output_type": "execute_result"
    }
   ],
   "source": [
    "# raising to powers (exponentiating)\n",
    "y**2"
   ]
  },
  {
   "cell_type": "code",
   "execution_count": 3,
   "metadata": {
    "colab": {},
    "colab_type": "code",
    "id": "vL_d1qoF1LYE"
   },
   "outputs": [
    {
     "data": {
      "text/plain": [
       "2.6"
      ]
     },
     "execution_count": 3,
     "metadata": {},
     "output_type": "execute_result"
    }
   ],
   "source": [
    "# regular division\n",
    "x/y"
   ]
  },
  {
   "cell_type": "code",
   "execution_count": 4,
   "metadata": {
    "colab": {},
    "colab_type": "code",
    "id": "CNFzhL4h1LYH"
   },
   "outputs": [
    {
     "data": {
      "text/plain": [
       "3"
      ]
     },
     "execution_count": 4,
     "metadata": {},
     "output_type": "execute_result"
    }
   ],
   "source": [
    "# integer division\n",
    "x//y\n",
    "x%y # the remainder when x is divided by y"
   ]
  },
  {
   "cell_type": "markdown",
   "metadata": {
    "colab_type": "text",
    "id": "xL5kzrCo1LYJ"
   },
   "source": [
    "Oh no! We wanted to see was `x//y` is, but the only output to the screen was the result from `x%y`. We fix this by using the `print` statement."
   ]
  },
  {
   "cell_type": "code",
   "execution_count": 5,
   "metadata": {
    "colab": {},
    "colab_type": "code",
    "id": "npq3MSrY1LYK"
   },
   "outputs": [
    {
     "name": "stdout",
     "output_type": "stream",
     "text": [
      "2\n",
      "3\n"
     ]
    }
   ],
   "source": [
    "# integer division, rebooted\n",
    "print(x//y)\n",
    "print(x%y)"
   ]
  },
  {
   "cell_type": "markdown",
   "metadata": {
    "colab_type": "text",
    "id": "wk2x3VW81LYM"
   },
   "source": [
    "### Some mathematical functions"
   ]
  },
  {
   "cell_type": "code",
   "execution_count": 6,
   "metadata": {
    "colab": {},
    "colab_type": "code",
    "id": "ooLuF5F41LYN"
   },
   "outputs": [],
   "source": [
    "# many functions in Python must be imported from packages\n",
    "import math"
   ]
  },
  {
   "cell_type": "code",
   "execution_count": 7,
   "metadata": {
    "colab": {},
    "colab_type": "code",
    "id": "RElB2QUm1LYP"
   },
   "outputs": [
    {
     "data": {
      "text/plain": [
       "3.141592653589793"
      ]
     },
     "execution_count": 7,
     "metadata": {},
     "output_type": "execute_result"
    }
   ],
   "source": [
    "# you must preface the functions with the package name\n",
    "math.pi"
   ]
  },
  {
   "cell_type": "code",
   "execution_count": 8,
   "metadata": {
    "colab": {},
    "colab_type": "code",
    "id": "14oZmdp31LYR"
   },
   "outputs": [
    {
     "data": {
      "text/plain": [
       "0.8414709848078965"
      ]
     },
     "execution_count": 8,
     "metadata": {},
     "output_type": "execute_result"
    }
   ],
   "source": [
    "math.sin(1)"
   ]
  },
  {
   "cell_type": "code",
   "execution_count": 37,
   "metadata": {
    "colab": {},
    "colab_type": "code",
    "id": "RvXi7VRZ1LYT"
   },
   "outputs": [],
   "source": [
    "# and if you don't like how cumbersome that is, there is a solution!\n",
    "from math import pi, sin"
   ]
  },
  {
   "cell_type": "code",
   "execution_count": 39,
   "metadata": {
    "colab": {},
    "colab_type": "code",
    "id": "BS8MMfdE1LYW"
   },
   "outputs": [
    {
     "name": "stdout",
     "output_type": "stream",
     "text": [
      "0.8414709848078965\n",
      "3.141592653589793\n"
     ]
    }
   ],
   "source": [
    "print(sin(1))\n",
    "print(pi)"
   ]
  },
  {
   "cell_type": "markdown",
   "metadata": {
    "colab_type": "text",
    "id": "_8HJi8_X1LYY"
   },
   "source": [
    "### Fun with strings!"
   ]
  },
  {
   "cell_type": "code",
   "execution_count": 11,
   "metadata": {
    "colab": {},
    "colab_type": "code",
    "id": "n3WZxg3c1LYY"
   },
   "outputs": [
    {
     "name": "stdout",
     "output_type": "stream",
     "text": [
      "eaglewolf\n"
     ]
    }
   ],
   "source": [
    "creature1 = 'eagle'\n",
    "creature2 = 'wolf'\n",
    "\n",
    "crime_against_nature = creature1 + creature2\n",
    "\n",
    "print(crime_against_nature)"
   ]
  },
  {
   "cell_type": "markdown",
   "metadata": {
    "colab_type": "text",
    "id": "E8GfE9YR1LYe"
   },
   "source": [
    "But we can also go back and forth between strings and integers:"
   ]
  },
  {
   "cell_type": "code",
   "execution_count": 12,
   "metadata": {
    "colab": {},
    "colab_type": "code",
    "id": "tPkDu_F21LYe"
   },
   "outputs": [],
   "source": [
    "date = '08Aug2018'"
   ]
  },
  {
   "cell_type": "markdown",
   "metadata": {
    "colab_type": "text",
    "id": "CNa2025-1LYg"
   },
   "source": [
    "You can slice this char-string like an array. The results are themselves char-strings."
   ]
  },
  {
   "cell_type": "code",
   "execution_count": 13,
   "metadata": {
    "colab": {},
    "colab_type": "code",
    "id": "83YgL7mz1LYg"
   },
   "outputs": [],
   "source": [
    "day = date[0:2]  # python is 0-based\n",
    "month = date[2:5]\n",
    "year = date[5:]"
   ]
  },
  {
   "cell_type": "code",
   "execution_count": 14,
   "metadata": {
    "colab": {},
    "colab_type": "code",
    "id": "o5B6-dwW1LYi"
   },
   "outputs": [
    {
     "data": {
      "text/plain": [
       "'08'"
      ]
     },
     "execution_count": 14,
     "metadata": {},
     "output_type": "execute_result"
    }
   ],
   "source": [
    "day"
   ]
  },
  {
   "cell_type": "code",
   "execution_count": 15,
   "metadata": {
    "colab": {},
    "colab_type": "code",
    "id": "vQawx08W1LYl"
   },
   "outputs": [
    {
     "name": "stdout",
     "output_type": "stream",
     "text": [
      "08 Aug 2018\n"
     ]
    }
   ],
   "source": [
    "print(day,month,year)"
   ]
  },
  {
   "cell_type": "code",
   "execution_count": 16,
   "metadata": {
    "colab": {},
    "colab_type": "code",
    "id": "y_DBA1v21LYn"
   },
   "outputs": [
    {
     "name": "stdout",
     "output_type": "stream",
     "text": [
      "009 Aug 2018\n"
     ]
    }
   ],
   "source": [
    "#\n",
    "tomorrow = int(day) + 1\n",
    "print(\"{:03.0f} {} {}\".format(tomorrow, month, year))"
   ]
  },
  {
   "cell_type": "code",
   "execution_count": 17,
   "metadata": {
    "colab": {},
    "colab_type": "code",
    "id": "vt6y88K21LYq"
   },
   "outputs": [
    {
     "name": "stdout",
     "output_type": "stream",
     "text": [
      "9 Aug 2018\n"
     ]
    }
   ],
   "source": [
    "# or like a neanderthal, if that's your thing\n",
    "print(tomorrow,month,year)"
   ]
  },
  {
   "cell_type": "markdown",
   "metadata": {
    "colab_type": "text",
    "id": "5X1Ki8QS1LYr"
   },
   "source": [
    "### Lists\n",
    "\n",
    "Lists are the most basic form of array-like object in Python."
   ]
  },
  {
   "cell_type": "code",
   "execution_count": 18,
   "metadata": {
    "colab": {},
    "colab_type": "code",
    "id": "wMMFOOoQ1LYs"
   },
   "outputs": [],
   "source": [
    "# we can store whatever we want in lists!\n",
    "x = [2,1,5,'squid']"
   ]
  },
  {
   "cell_type": "code",
   "execution_count": 19,
   "metadata": {
    "colab": {},
    "colab_type": "code",
    "id": "zf-90TaI1LYu"
   },
   "outputs": [
    {
     "data": {
      "text/plain": [
       "2"
      ]
     },
     "execution_count": 19,
     "metadata": {},
     "output_type": "execute_result"
    }
   ],
   "source": [
    "# remember, Python indexing starts at 0\n",
    "x[0]"
   ]
  },
  {
   "cell_type": "code",
   "execution_count": 20,
   "metadata": {
    "colab": {},
    "colab_type": "code",
    "id": "2YAJmo2r1LYv"
   },
   "outputs": [
    {
     "data": {
      "text/plain": [
       "[1, 5]"
      ]
     },
     "execution_count": 20,
     "metadata": {},
     "output_type": "execute_result"
    }
   ],
   "source": [
    "# and array/list slicing in Python ending index in EXCLUSIVE,\n",
    "# but the beginning index is INCLUSIVE\n",
    "x[1:3]"
   ]
  },
  {
   "cell_type": "code",
   "execution_count": 21,
   "metadata": {
    "colab": {},
    "colab_type": "code",
    "id": "PMFVVGCl1LYx"
   },
   "outputs": [
    {
     "data": {
      "text/plain": [
       "'squid'"
      ]
     },
     "execution_count": 21,
     "metadata": {},
     "output_type": "execute_result"
    }
   ],
   "source": [
    "# you can even reference elements from the end of the list!\n",
    "x[-1]"
   ]
  },
  {
   "cell_type": "code",
   "execution_count": 22,
   "metadata": {
    "colab": {},
    "colab_type": "code",
    "id": "leJ0IFLk1LYz"
   },
   "outputs": [
    {
     "data": {
      "text/plain": [
       "5"
      ]
     },
     "execution_count": 22,
     "metadata": {},
     "output_type": "execute_result"
    }
   ],
   "source": [
    "x[-2]"
   ]
  },
  {
   "cell_type": "code",
   "execution_count": 23,
   "metadata": {
    "colab": {},
    "colab_type": "code",
    "id": "BUshYaJZ1LY0"
   },
   "outputs": [
    {
     "data": {
      "text/plain": [
       "[5, 'squid']"
      ]
     },
     "execution_count": 23,
     "metadata": {},
     "output_type": "execute_result"
    }
   ],
   "source": [
    "x[-2:]"
   ]
  },
  {
   "cell_type": "markdown",
   "metadata": {
    "colab_type": "text",
    "id": "-pSNuyS51LY3"
   },
   "source": [
    "### if/else and logical operators"
   ]
  },
  {
   "cell_type": "code",
   "execution_count": 24,
   "metadata": {
    "colab": {},
    "colab_type": "code",
    "id": "y9KwPmps1LY3"
   },
   "outputs": [],
   "source": [
    "x = 5"
   ]
  },
  {
   "cell_type": "code",
   "execution_count": 25,
   "metadata": {
    "colab": {},
    "colab_type": "code",
    "id": "8RMussLF1LY6"
   },
   "outputs": [
    {
     "name": "stdout",
     "output_type": "stream",
     "text": [
      "x is odd!\n"
     ]
    }
   ],
   "source": [
    "if round(x/2)==x/2:\n",
    "    print('x is even!')\n",
    "else:\n",
    "    print('x is odd!')"
   ]
  },
  {
   "cell_type": "markdown",
   "metadata": {
    "colab_type": "text",
    "id": "POtzrxXJ1LY7"
   },
   "source": [
    "The `int` function versus the `round` function"
   ]
  },
  {
   "cell_type": "code",
   "execution_count": null,
   "metadata": {
    "colab": {},
    "colab_type": "code",
    "collapsed": true,
    "id": "I8QCEw4w1LY8",
    "jupyter": {
     "outputs_hidden": true
    }
   },
   "outputs": [],
   "source": []
  },
  {
   "cell_type": "markdown",
   "metadata": {
    "colab_type": "text",
    "id": "OtAzEdon1LY-"
   },
   "source": [
    "### Loops\n",
    "\n",
    "You can loop over indices like you would in C++ or Fortran (if you are suitably tough) by using `range`. Note that `range(3)` makes use of the fact that Python is 0-based and will loop over something of length 3: [0, 1, 2]"
   ]
  },
  {
   "cell_type": "code",
   "execution_count": 26,
   "metadata": {
    "colab": {},
    "colab_type": "code",
    "id": "CVaYqPW31LY-"
   },
   "outputs": [
    {
     "name": "stdout",
     "output_type": "stream",
     "text": [
      "0\n",
      "1\n",
      "2\n"
     ]
    }
   ],
   "source": [
    "for i in range(3):\n",
    "    print(i)"
   ]
  },
  {
   "cell_type": "code",
   "execution_count": 27,
   "metadata": {
    "colab": {},
    "colab_type": "code",
    "id": "2vW8fvkj1LZA"
   },
   "outputs": [
    {
     "name": "stdout",
     "output_type": "stream",
     "text": [
      "[0, 1, 2]\n"
     ]
    }
   ],
   "source": [
    "print(list(range(3)))"
   ]
  },
  {
   "cell_type": "markdown",
   "metadata": {
    "colab_type": "text",
    "id": "GbPgAtwY1LZC"
   },
   "source": [
    "You can also loop over the elements of a list:"
   ]
  },
  {
   "cell_type": "code",
   "execution_count": 28,
   "metadata": {
    "colab": {},
    "colab_type": "code",
    "id": "gE5XpYRm1LZC"
   },
   "outputs": [
    {
     "name": "stdout",
     "output_type": "stream",
     "text": [
      "2\n",
      "7\n",
      "-153\n",
      "octopus\n"
     ]
    }
   ],
   "source": [
    "x = [2, 7, -153, 'octopus']\n",
    "\n",
    "for xi in x:\n",
    "    print(xi)"
   ]
  },
  {
   "cell_type": "code",
   "execution_count": 29,
   "metadata": {
    "colab": {},
    "colab_type": "code",
    "id": "7oKkipYG1LZE"
   },
   "outputs": [
    {
     "name": "stdout",
     "output_type": "stream",
     "text": [
      "2\n",
      "7\n",
      "-153\n",
      "octopus\n"
     ]
    }
   ],
   "source": [
    "# or just loop over the indices\n",
    "for i in range(len(x)):\n",
    "    print(x[i])"
   ]
  },
  {
   "cell_type": "code",
   "execution_count": 30,
   "metadata": {
    "colab": {},
    "colab_type": "code",
    "id": "2xecA86N1LZG"
   },
   "outputs": [
    {
     "data": {
      "text/plain": [
       "[1, 2, 3, 4]"
      ]
     },
     "execution_count": 30,
     "metadata": {},
     "output_type": "execute_result"
    }
   ],
   "source": [
    "list(range(1,5))"
   ]
  },
  {
   "cell_type": "markdown",
   "metadata": {
    "colab_type": "text",
    "id": "26AHQ_vk1LZI"
   },
   "source": [
    "### Defining functions"
   ]
  },
  {
   "cell_type": "markdown",
   "metadata": {
    "colab_type": "text",
    "id": "-wH9_B5l1LZI"
   },
   "source": [
    "I love numbers, but bigger numbers are nice. So let's write a function to add one to a number."
   ]
  },
  {
   "cell_type": "code",
   "execution_count": 31,
   "metadata": {
    "colab": {},
    "colab_type": "code",
    "id": "6TgjxdFQ1LZI"
   },
   "outputs": [],
   "source": [
    "def plus_one_easy(x):\n",
    "    '''   <-- this initial comment is a docstring. Use the tab-completion to witness its FULL POWERS\n",
    "    Input:\n",
    "    x = a number\n",
    "    Output:\n",
    "    y = a number that is x+1\n",
    "    '''\n",
    "\n",
    "    # TODO\n"
   ]
  },
  {
   "cell_type": "markdown",
   "metadata": {
    "colab_type": "text",
    "id": "PJs4S-as1LZK"
   },
   "source": [
    "What if we make it a little trickier?"
   ]
  },
  {
   "cell_type": "code",
   "execution_count": 32,
   "metadata": {
    "colab": {},
    "colab_type": "code",
    "id": "K-CPllH71LZK"
   },
   "outputs": [],
   "source": [
    "def plus_one(x):\n",
    "    '''\n",
    "    Input:\n",
    "    x = a list\n",
    "    Output:\n",
    "    y = a list of same length as x, where each element is one more than the corresponding element of x\n",
    "    '''\n",
    "\n",
    "    # TODO\n",
    "    "
   ]
  },
  {
   "cell_type": "markdown",
   "metadata": {
    "colab_type": "text",
    "id": "QLikljV31LZN"
   },
   "source": [
    "### Quick note about variable scope\n",
    "\n",
    "If I define a quantity within a function, _generally_ Python **does not know** about that variable outside of the function (there are ways around this)."
   ]
  },
  {
   "cell_type": "code",
   "execution_count": null,
   "metadata": {
    "colab": {},
    "colab_type": "code",
    "id": "RoMxmHz01LZN"
   },
   "outputs": [],
   "source": []
  },
  {
   "cell_type": "markdown",
   "metadata": {
    "colab_type": "text",
    "id": "iezYlhB41LZP"
   },
   "source": [
    "---\n",
    "# BONUS MATERIAL!"
   ]
  },
  {
   "cell_type": "markdown",
   "metadata": {
    "colab_type": "text",
    "id": "O4UNBeAI1LZP"
   },
   "source": [
    "This achieves the same thing as the list version of `plus_one`, but does so with what is called a `list comprehension`. List comprehensions are powerful magic, and can make for much more readable and efficient code."
   ]
  },
  {
   "cell_type": "code",
   "execution_count": 33,
   "metadata": {
    "colab": {},
    "colab_type": "code",
    "id": "nRS5mA3e1LZQ"
   },
   "outputs": [
    {
     "ename": "SyntaxError",
     "evalue": "unexpected EOF while parsing (<ipython-input-33-ace6f6fb3709>, line 4)",
     "output_type": "error",
     "traceback": [
      "\u001b[0;36m  File \u001b[0;32m\"<ipython-input-33-ace6f6fb3709>\"\u001b[0;36m, line \u001b[0;32m4\u001b[0m\n\u001b[0;31m    \u001b[0m\n\u001b[0m    ^\u001b[0m\n\u001b[0;31mSyntaxError\u001b[0m\u001b[0;31m:\u001b[0m unexpected EOF while parsing\n"
     ]
    }
   ],
   "source": [
    "def plus_one_reboot(x):\n",
    "\n",
    "    # TODO\n",
    "    "
   ]
  },
  {
   "cell_type": "code",
   "execution_count": null,
   "metadata": {
    "colab": {},
    "colab_type": "code",
    "id": "YPAHR3aB1LZR"
   },
   "outputs": [],
   "source": [
    "plus_one_reboot([1,2,5,-10])"
   ]
  },
  {
   "cell_type": "markdown",
   "metadata": {
    "colab_type": "text",
    "id": "w6aT0AmK1LZT"
   },
   "source": [
    "As a final note, we could just stick it all together on one line in the `return` statement."
   ]
  },
  {
   "cell_type": "code",
   "execution_count": null,
   "metadata": {
    "colab": {},
    "colab_type": "code",
    "id": "FwLEPzXN1LZU"
   },
   "outputs": [],
   "source": [
    "def plus_one_reboot_again(x):\n",
    "\n",
    "    # TODO\n",
    "    "
   ]
  },
  {
   "cell_type": "code",
   "execution_count": null,
   "metadata": {
    "colab": {},
    "colab_type": "code",
    "id": "73iGSTOD1LZW"
   },
   "outputs": [],
   "source": [
    "plus_one_reboot_again([1,2,5,-10])"
   ]
  },
  {
   "cell_type": "markdown",
   "metadata": {
    "colab_type": "text",
    "id": "yIZr7Cmn1LZY"
   },
   "source": [
    "Ah, just kidding. One more bit.\n",
    "\n",
    "Here's how to use `assert` statements to make sure things are what they should be! This is great for things like type checking and making sure input to your functions is as it should be."
   ]
  },
  {
   "cell_type": "code",
   "execution_count": null,
   "metadata": {
    "colab": {},
    "colab_type": "code",
    "id": "L5HnJ6Pq1LZY"
   },
   "outputs": [],
   "source": [
    "x = [1,2,5,-10]\n",
    "x_plus_one = [2,3,6,-9]\n",
    "\n",
    "assert plus_one(x)==x_plus_one, \"Something is wrong!\"\n",
    "assert plus_one_reboot(x)==x_plus_one, \"Something is wrong!\"\n",
    "assert plus_one_reboot_again(x)==x_plus_one, \"Something is wrong!\""
   ]
  },
  {
   "cell_type": "markdown",
   "metadata": {
    "colab_type": "text",
    "id": "p3OLfopb1LZb"
   },
   "source": [
    "Here's what should happen if things are wrong:"
   ]
  },
  {
   "cell_type": "code",
   "execution_count": null,
   "metadata": {
    "colab": {},
    "colab_type": "code",
    "id": "ognCVJ2q1LZc"
   },
   "outputs": [],
   "source": [
    "assert plus_one(x)==x_plus_one, \"Something is wrong!\"\n",
    "assert plus_one_reboot(x)==0, \"Something is wrong!\"\n",
    "assert plus_one_reboot_again(x)==x_plus_one, \"Something is wrong!\""
   ]
  },
  {
   "cell_type": "code",
   "execution_count": null,
   "metadata": {
    "colab": {},
    "colab_type": "code",
    "id": "9yBbSqoh1LZe"
   },
   "outputs": [],
   "source": []
  }
 ],
 "metadata": {
  "colab": {
   "name": "nb00_python_question_mark.ipynb",
   "provenance": [],
   "toc_visible": true
  },
  "kernelspec": {
   "display_name": "Python 3",
   "language": "python",
   "name": "python3"
  },
  "language_info": {
   "codemirror_mode": {
    "name": "ipython",
    "version": 3
   },
   "file_extension": ".py",
   "mimetype": "text/x-python",
   "name": "python",
   "nbconvert_exporter": "python",
   "pygments_lexer": "ipython3",
   "version": "3.8.5"
  }
 },
 "nbformat": 4,
 "nbformat_minor": 4
}
