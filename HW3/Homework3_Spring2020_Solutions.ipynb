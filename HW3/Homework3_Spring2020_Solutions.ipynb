{
 "cells": [
  {
   "cell_type": "markdown",
   "metadata": {},
   "source": [
    "<a id='top'></a>\n",
    "\n",
    "# Homework 3: Normals and More Simulation\n",
    "***\n",
    "\n",
    "**Name**: \n",
    "\n",
    "***\n",
    "\n",
    "This assignment is due on Canvas by **MIDNIGHT on Friday October 25**. Your solutions to theoretical questions should be done in Markdown directly below the associated question.  Your solutions to computational questions should include any specified Python code and results as well as written commentary on your conclusions.  Remember that you are encouraged to discuss the problems with your classmates, but **you must write all code and solutions on your own**.\n",
    "\n",
    "**NOTES**: \n",
    "\n",
    "- Any relevant data sets should be available under the **Data** module on Canvas. To make life easier on the graders if they need to run your code, do not change the relative path names here. Instead, move the files around on your computer.\n",
    "- If you're not familiar with typesetting math directly into Markdown then by all means, do your work on paper first and then typeset it later.  Remember that there is a [reference guide](https://math.meta.stackexchange.com/questions/5020/mathjax-basic-tutorial-and-quick-reference) linked on Canvas on writing math in Markdown. **All** of your written commentary, justifications and mathematical work should be in Markdown.\n",
    "- Because you can technically evaluate notebook cells is a non-linear order, it's a good idea to do Kernel $\\rightarrow$ Restart & Run All as a check before submitting your solutions.  That way if we need to run your code you will know that it will work as expected. \n",
    "- It is **bad form** to make your reader interpret numerical output from your code.  If a question asks you to compute some value from the data you should show your code output **AND** write a summary of the results in Markdown directly below your code. \n",
    "- This probably goes without saying, but... For any question that asks you to calculate something, you **must show all work and justify your answers to receive credit**. Sparse or nonexistent work will receive sparse or nonexistent credit. \n",
    "\n",
    "---\n",
    "**Shortcuts:**  [Problem 1](#p1) | [Problem 2](#p2) | [Problem 3](#p3) | [Problem 4](#p4) | \n",
    "\n",
    "---"
   ]
  },
  {
   "cell_type": "code",
   "execution_count": 1,
   "metadata": {},
   "outputs": [],
   "source": [
    "import pandas as pd\n",
    "import numpy as np\n",
    "import math\n",
    "from scipy import stats\n",
    "import matplotlib.pylab as plt\n",
    "%matplotlib inline"
   ]
  },
  {
   "cell_type": "markdown",
   "metadata": {},
   "source": [
    "<br>\n",
    "\n",
    "---\n",
    "<a id='p1'></a>\n",
    "[Back to top](#top)\n",
    "\n",
    "<img src=\"https://media.daysoftheyear.com/20171223112636/hedgehog-day1.jpg\" style=\"width: 500px;\"/>\n",
    "\n",
    "\n",
    "### [25 points] Problem 1\n",
    "\n",
    "Suppose you are modeling the probability of observing various levels of cuteness in hedgehogs you encounter.  Let $X$ be a random variable representing the observed cuteness, which is *obviously* nonnegative and has units of deci*awws*. You decide to use the following pdf for $X$:\n",
    "\n",
    "$$\n",
    "f(x) = \\begin{cases}\n",
    "         k \\ x \\ e^{\\left(-\\frac{x^2}{8}\\right)} & 0 \\leq x < \\infty \\\\\n",
    "         0                           & \\text{otherwise}\n",
    "       \\end{cases}\n",
    "$$\n",
    "where $k$ is some normalizing constant.\n",
    "\n",
    "**Part A**: Determine the value of $k$ such that $f(x)$ is a valid probability density function. Then, make a plot of the probability density function for hedgehog cuteness, $f(x)$. Be sure to label your plot and axes!"
   ]
  },
  {
   "cell_type": "markdown",
   "metadata": {},
   "source": [
    "**Solution**: \n",
    "\n",
    "We need to choose $k$ such that $f(x)$ integrates to 1.  We have:\n",
    "\n",
    "$\\begin{align}\n",
    " 1 &= \\int_{-\\infty}^\\infty f(x) dx \\\\\n",
    "   &= \\int_0^\\infty k \\ x \\ e^{-x^2/8}\\ dx \\qquad \\text{let } u=x^2, du = 2xdx\\\\\n",
    "   &= \\dfrac{k}{2} \\int_0^\\infty e^{-u/8}\\ du \\\\\n",
    "   &= -\\dfrac{8k}{2} e^{-u/8} \\bigg|_0^\\infty \\\\\n",
    "   &= -4k \\left(e^{-\\infty} - e^0\\right) \\qquad \\text{technically, we should be taking a limit...}\\\\\n",
    "   &= -4k \\left(0 - 1\\right) \\\\\n",
    "  1 &= 4k \\\\\n",
    "\\Rightarrow& ~~\\fbox{$k=\\dfrac{1}{4}$}\n",
    "\\end{align}$"
   ]
  },
  {
   "cell_type": "code",
   "execution_count": 2,
   "metadata": {},
   "outputs": [
    {
     "data": {
      "image/png": "[encoded data removed]",
      "text/plain": [
       "<Figure size 432x288 with 1 Axes>"
      ]
     },
     "metadata": {
      "needs_background": "light"
     },
     "output_type": "display_data"
    }
   ],
   "source": [
    "def f(x):\n",
    "    return (1/4)*x*np.exp(-(1/8)* (x**2))\n",
    "\n",
    "x = np.linspace(0,10,100)\n",
    "plt.plot(x, f(x))\n",
    "plt.grid(alpha = 0.5)\n",
    "plt.xlabel(\"Hedgehog cuteness [deciawws]\")\n",
    "plt.ylabel(\"Density\");\n",
    "plt.title(\"PDF Of Hedgehog Cuteness\")\n",
    "plt.show()"
   ]
  },
  {
   "cell_type": "markdown",
   "metadata": {},
   "source": [
    "**Part B**: Compute *by hand* the cumulative density (cdf) function $F(x)$ for $X$ and provide the value of F(2)"
   ]
  },
  {
   "cell_type": "markdown",
   "metadata": {},
   "source": [
    "**Solution**:\n",
    "\n",
    "Integrating from $0$ to $x$, we have...\n",
    "\n",
    "$\\begin{align}\n",
    " F(x) &= \\int_0^x f(y) dy \\\\\n",
    "      &= \\int_0^x \\dfrac{1}{4} y e^{(-y^2/8)}\\ dy \\qquad \\text{let } u = y^2, du = 2ydy\\\\\n",
    "      &= \\int_0^{x^2} \\dfrac{1}{8} e^{(-u/8)}\\ du \\\\\n",
    "      &= -\\dfrac{8}{8} e^{(-u/8)} \\bigg|_0^{x^2} \\\\\n",
    "      &= - \\left(e^{(-x^2/8)} - e^0\\right) \\\\\n",
    "      &= 1 - e^{(-x^2/8)}\n",
    "\\Rightarrow& ~~ \\fbox{$F(x) = 1 - e^{(-x^2/8)}$}\n",
    " \\end{align}$\n",
    "\n",
    " $\\begin{align}\n",
    " F(2) = 1 - e^{(-2^2/8)} = 1- e^{(-4/8)} =\\fbox{0.3935}\n",
    " \\end{align}$"
   ]
  },
  {
   "cell_type": "markdown",
   "metadata": {},
   "source": [
    "**Part C:**  Use the cdf you derived in **Part B** to calculate the median ($\\tilde{x}$) cuteness of all hedgehogs."
   ]
  },
  {
   "cell_type": "markdown",
   "metadata": {},
   "source": [
    "**Solution:**\n",
    "\n",
    "Median is special because there is exactly 0.50 probability mass lying above *and below* $\\tilde{x}$. So:\n",
    "\n",
    "$\\begin{align}\n",
    "  \\frac{1}{2} &\\stackrel{\\heartsuit}{=} F(\\tilde{x}) = 1- e^{-\\tilde{x}^2/8} \\\\\n",
    "e^{-\\tilde{x}^2/8} &= \\frac{1}{2} \\\\\n",
    "\\frac{-\\tilde{x}^2}{8} &= -\\log{2} \\\\\n",
    "\\tilde{x}^2 &= 8 \\log{2} \\\\\n",
    "\\tilde{x} &= \\sqrt{8 \\log{2}}\n",
    "\\Rightarrow& ~~ \\fbox{$\\tilde{x} = \\sqrt{8\\log{2}} \\approx 2.35$}\n",
    "\\end{align}$"
   ]
  },
  {
   "cell_type": "code",
   "execution_count": 3,
   "metadata": {},
   "outputs": [
    {
     "data": {
      "text/plain": [
       "2.3548200450309493"
      ]
     },
     "execution_count": 3,
     "metadata": {},
     "output_type": "execute_result"
    }
   ],
   "source": [
    "np.sqrt(8 * np.log(2))"
   ]
  },
  {
   "cell_type": "markdown",
   "metadata": {},
   "source": [
    "**Part D**: It is a well-known fact that any hedgehog whose cuteness exceeds 3 deciawws is **totes adorbz**. Use the cdf you computed in **Part B** to find the probability that any arbitrary hedgehog that you observe is totes adorbz."
   ]
  },
  {
   "cell_type": "markdown",
   "metadata": {},
   "source": [
    "**Solution**: \n",
    "\n",
    "We have:\n",
    "\n",
    "$\\begin{align}\n",
    "P(X \\geq 3) &= 1 - P(X \\leq 3) = 1 - F(3) \\\\\n",
    "            &= 1 - \\left[1-e^{(-3^2/8)}\\right] \\\\\n",
    "            &= e^{(-9/8)} \\\\\n",
    "            &\\approx 0.32\n",
    "\\end{align}$\n",
    "\n",
    "Thus the probability of a hedgehog being totes adorbz is about $\\fbox{$0.32$}$"
   ]
  },
  {
   "cell_type": "code",
   "execution_count": 4,
   "metadata": {},
   "outputs": [
    {
     "data": {
      "text/plain": [
       "0.32465246735834974"
      ]
     },
     "execution_count": 4,
     "metadata": {},
     "output_type": "execute_result"
    }
   ],
   "source": [
    "np.exp(-9/8)"
   ]
  },
  {
   "cell_type": "markdown",
   "metadata": {},
   "source": [
    "**Part E:** You have been painstakingly collecting data on hedgehogs all over town, and the cuteness is damn near overwhelming. Suppose you sample 7 hedgehogs, and the cuteness of any given hedgehog is independent of the cuteness of all other hedgehogs. What is the probability that at least 3 but not all of them are totes adorbz?"
   ]
  },
  {
   "cell_type": "markdown",
   "metadata": {},
   "source": [
    "**Solution**: \n",
    "\n",
    "This is a **binomial** distribution, with $n=7$ and $p=P(\\text{totes adorbz})=e^{-9/8}$\n",
    "\n",
    "We want $P(3 \\leq X \\leq 6) = P(X=3) + P(X=4) + P(X=5) + P(X=6)$\n",
    "\n",
    "So we have:\n",
    "\n",
    "$\\begin{align}\n",
    "P(3 \\leq X \\leq 6) &= P(X=3) + P(X=4) + P(X=5)  P(X=6) \\\\\n",
    " &= {7\\choose3}\\cdot (e^{-9/8})^3(1-e^{-9/8})^4 + {7\\choose4}\\cdot (e^{-9/8})^4(1-e^{-9/8})^3 + {7\\choose5}\\cdot(e^{-9/8})^5(1 - e^{-9/8})^2 + {7\\choose6}\\cdot(e^{-9/8})^6(1 - e^{-9/8})^1 \\\\\n",
    " &\\approx \\fbox{$0.409$}\n",
    " \\end{align}$"
   ]
  },
  {
   "cell_type": "code",
   "execution_count": 5,
   "metadata": {},
   "outputs": [
    {
     "name": "stdout",
     "output_type": "stream",
     "text": [
      "0.4089766914856414\n"
     ]
    }
   ],
   "source": [
    "p_tot = np.sum([stats.binom.pmf(n=7, p=np.exp(-9/8), k=k) for k in range(3,7)])\n",
    "print(p_tot)"
   ]
  },
  {
   "cell_type": "code",
   "execution_count": null,
   "metadata": {},
   "outputs": [],
   "source": []
  },
  {
   "cell_type": "markdown",
   "metadata": {
    "ExecuteTime": {
     "end_time": "2020-02-06T18:30:03.478651Z",
     "start_time": "2020-02-06T18:30:03.473088Z"
    }
   },
   "source": [
    "<br>\n",
    "\n",
    "---\n",
    "<a/ id='p2'></a>\n",
    "[Back to top](#top)\n",
    "### [25 points] Problem 2 - Monte Carlo Estimation of Definite Integrals\n",
    "\n",
    "One really cool application of random variables is using them to approximate integrals/area under a curve.  This method of approximating integrals is used frequently in computational science to approximate really difficult integrals that we never want to do by hand.  In this exercise you'll figure out how we can do this in practice and test your method on a relatively simple integral. "
   ]
  },
  {
   "cell_type": "markdown",
   "metadata": {},
   "source": [
    "**Part A.**  Let $X$ be a random variable representing how delicious a pie you bake is, as measured by the **Deliciousness Index** (DI).  Suppose the probability density function for $X$ is described by the raised sine probability density function:\n",
    "\n",
    "$$\n",
    "f(x) = \\begin{cases}\n",
    "         \\dfrac{1}{2\\pi}\\left(\\sin{(x)} + 1\\right) & 0 \\leq x \\leq 2\\pi \\\\\n",
    "         0                           & \\text{otherwise}\n",
    "         \\end{cases}\n",
    "$$\n",
    "\n",
    "A Deliciousness Index of $2\\pi$ is the most delicious pie you can ever hope to create, and a DI of $0$ is the most disgusting pie you have ever tasted.  \n",
    "\n",
    "Compute **by hand**, the integral of $f(x)$ for $0 \\leq x \\leq \\pi$.  Write a sentence or two to interpret your result physically, in the context of this problem set-up."
   ]
  },
  {
   "cell_type": "markdown",
   "metadata": {},
   "source": [
    "\n",
    "**Solution:**\n",
    "\n",
    "$\\begin{align}\n",
    " \\int_0^{\\pi} \\dfrac{1}{2\\pi}(\\sin(x)+1) dx &= \\dfrac{1}{2\\pi}(-\\cos(x) + x)\\bigg|_0^\\pi \\\\\n",
    "    &= \\dfrac{1}{2\\pi}\\left[\\left(-\\cos(\\pi) + \\pi\\right) - \\left(-\\cos(0)+0\\right)\\right] \\\\\n",
    "    &= \\dfrac{1}{2\\pi}(2 + \\pi) \\\\\n",
    "    &= \\fbox{$\\dfrac{1}{\\pi} + \\dfrac{1}{2} \\approx 0.8183$}\n",
    " \\end{align}$\n",
    " \n",
    " This is the probability that a pie we bake has a Deliciousness Index of less than or equal to $\\pi$, which everyone knows is defined to be **Mediocre at Best**."
   ]
  },
  {
   "cell_type": "markdown",
   "metadata": {},
   "source": [
    "**Part B.** Suppose we sample a random variable $X$ from $U(0,\\pi)$ and another random variable $Y$ from $U(0,1)$ and think of them as $x$- and $y$-coordinates of a point in the box $[0,\\pi] \\times [0,1]$.  If we compute the ratio of points that fall under the curve $f(x)$ to the total points sampled, what does this value estimate? "
   ]
  },
  {
   "cell_type": "markdown",
   "metadata": {},
   "source": [
    "**Solution:**\n",
    "\n",
    "This value estimates the proportion of the area in the box that is under the curve $f(x)$."
   ]
  },
  {
   "cell_type": "markdown",
   "metadata": {},
   "source": [
    "**Part C.** How could we modify the process outlined in **Part B** so that our estimator estimates the value of the desired integral?  If you need inspiration, check out the in-class notebook on Stochastic Simulation (#4), specifically, the exercise where we estimated $\\pi$!"
   ]
  },
  {
   "cell_type": "markdown",
   "metadata": {},
   "source": [
    "**Solution:**\n",
    "\n",
    "We want to compute the area under the curve, but we have a proportion of the total area. Therefore, multiply the proportion by the total area (which is $\\pi$) to get the area under the curve."
   ]
  },
  {
   "cell_type": "markdown",
   "metadata": {},
   "source": [
    "**Part D.** Complete the function `integrate` below to compute an approximation to the definition integral $\\int_0^{\\text{ub}} f(x)dx$.  Your function should take as arguments:\n",
    "1. `num_samples` -- the number of points to sample,\n",
    "2. `ub` -- a number between $0$ and $2\\pi$ that is the upper bound of the integral, and\n",
    "3. `isPlot` -- a Boolean flag for whether or not to display a plot of the results.\n",
    "\n",
    "Your function should return an approximation of the definite integral by sampling $X$ from $U(0,\\text{ub})$ and $Y$ from $U(0,1)$. For each random draw $(X,Y)$, define the random variable $Z$ that represents whether or not the sampled $Y$ value is less than $f(X)$ for the corresponding $X$ value.\n",
    "\n",
    "Your function should perform three tasks: \n",
    "\n",
    "1. return the estimate of the value of the integral,\n",
    "2. return the sample variance of the random variable $Z$ being simulated, using the np.var function, and\n",
    "3. if `isPlot` is True, plot the curve $f(x)$ as well as the location of the points $(X,Y)$, colored according to whether they fall above or below the curve. "
   ]
  },
  {
   "cell_type": "code",
   "execution_count": 6,
   "metadata": {
    "ExecuteTime": {
     "end_time": "2020-02-06T19:34:56.341519Z",
     "start_time": "2020-02-06T19:34:55.752342Z"
    }
   },
   "outputs": [],
   "source": [
    "import numpy as np\n",
    "import matplotlib.pyplot as plt\n",
    "\n",
    "def raised_sine(x):\n",
    "    return (np.sin(x) + 1) / (2 * np.pi)\n",
    "\n",
    "def integrate(num_samples=1000, ub=2 * np.pi, isPlot=False):\n",
    "    x = np.random.uniform(0, ub, num_samples)\n",
    "    y = np.random.uniform(0, 1, num_samples)\n",
    "    fx = raised_sine(x)\n",
    "    rv = y < fx \n",
    "    estimate = ub * np.sum(rv) / num_samples\n",
    "    sample_var = np.var(rv)\n",
    "    if isPlot:\n",
    "        fig, ax = plt.subplots(nrows=1, ncols=1, figsize=(18,9)) \n",
    "        xval = np.arange(0, 2 * np.pi, 2 * np.pi / 100)\n",
    "        ax.plot(xval, raised_sine(xval), '--')\n",
    "        ax.scatter(x[y <= fx], y[y <= fx], color=\"salmon\", marker='v', alpha=0.3)\n",
    "        ax.scatter(x[y > fx], y[y > fx], s=5, alpha=0.3)\n",
    "    return estimate, sample_var "
   ]
  },
  {
   "cell_type": "markdown",
   "metadata": {},
   "source": [
    "**Part E.** Write your own small unit tests!\n",
    "\n",
    "First, what should your `integrate` function output if you plug in `ub=0`? Set that as `int_0_to_0` below.\n",
    "\n",
    "Second, what should your `integrate` function output if you plug in `ub=`$2\\pi$? Set that as `int_0_to_2pi` below.\n",
    "\n",
    "Then, you can execute the cell below to run two sanity checks. Write out **in math** (like, a definite integral) what each of these two tests is checking and **why** that is a reasonable sanity check.\n",
    "\n",
    "If these two assertions run without fail, then things seem to be working okay. Note that the upper endpoint test is stochastic, so if it fails, try running it a few times. If it fails a lot, then things are probably going wrong."
   ]
  },
  {
   "cell_type": "code",
   "execution_count": 7,
   "metadata": {
    "ExecuteTime": {
     "end_time": "2020-02-06T19:35:28.502227Z",
     "start_time": "2020-02-06T19:35:28.495603Z"
    }
   },
   "outputs": [
    {
     "ename": "AssertionError",
     "evalue": "Error: upper endpoint test failing",
     "output_type": "error",
     "traceback": [
      "\u001b[0;31m---------------------------------------------------------------------------\u001b[0m",
      "\u001b[0;31mAssertionError\u001b[0m                            Traceback (most recent call last)",
      "\u001b[0;32m<ipython-input-7-eb1c45d756bc>\u001b[0m in \u001b[0;36m<module>\u001b[0;34m()\u001b[0m\n\u001b[1;32m      9\u001b[0m \u001b[0;31m#---------------------------------------\u001b[0m\u001b[0;34m\u001b[0m\u001b[0;34m\u001b[0m\u001b[0;34m\u001b[0m\u001b[0m\n\u001b[1;32m     10\u001b[0m \u001b[0;32massert\u001b[0m \u001b[0mintegrate\u001b[0m\u001b[0;34m(\u001b[0m\u001b[0;36m1000\u001b[0m\u001b[0;34m,\u001b[0m \u001b[0;36m0\u001b[0m\u001b[0;34m,\u001b[0m \u001b[0;32mFalse\u001b[0m\u001b[0;34m)\u001b[0m\u001b[0;34m[\u001b[0m\u001b[0;36m0\u001b[0m\u001b[0;34m]\u001b[0m \u001b[0;34m==\u001b[0m \u001b[0mint_0_to_0\u001b[0m\u001b[0;34m,\u001b[0m \u001b[0;34m\"Error: lower endpoint test failing\"\u001b[0m\u001b[0;34m\u001b[0m\u001b[0;34m\u001b[0m\u001b[0m\n\u001b[0;32m---> 11\u001b[0;31m \u001b[0;32massert\u001b[0m \u001b[0mmath\u001b[0m\u001b[0;34m.\u001b[0m\u001b[0misclose\u001b[0m\u001b[0;34m(\u001b[0m\u001b[0mintegrate\u001b[0m\u001b[0;34m(\u001b[0m\u001b[0;36m10000\u001b[0m\u001b[0;34m,\u001b[0m \u001b[0;36m2\u001b[0m \u001b[0;34m*\u001b[0m \u001b[0mnp\u001b[0m\u001b[0;34m.\u001b[0m\u001b[0mpi\u001b[0m\u001b[0;34m,\u001b[0m \u001b[0;32mFalse\u001b[0m\u001b[0;34m)\u001b[0m\u001b[0;34m[\u001b[0m\u001b[0;36m0\u001b[0m\u001b[0;34m]\u001b[0m\u001b[0;34m,\u001b[0m \u001b[0mint_0_to_2pi\u001b[0m\u001b[0;34m,\u001b[0m \u001b[0mabs_tol\u001b[0m\u001b[0;34m=\u001b[0m\u001b[0;36m0.03\u001b[0m\u001b[0;34m)\u001b[0m\u001b[0;34m,\u001b[0m \u001b[0;34m\"Error: upper endpoint test failing\"\u001b[0m\u001b[0;34m\u001b[0m\u001b[0;34m\u001b[0m\u001b[0m\n\u001b[0m",
      "\u001b[0;31mAssertionError\u001b[0m: Error: upper endpoint test failing"
     ]
    }
   ],
   "source": [
    "import math\n",
    "\n",
    "int_0_to_0  = 0 #from 0 to 0 no area, so integral is 0\n",
    "int_0_to_2pi = 1# from 0 to 2pi, integrates to 1\n",
    "\n",
    "\n",
    "#---------------------------------------\n",
    "# DO NOT EDIT THIS CELL BELOW HERE\n",
    "#---------------------------------------\n",
    "assert integrate(1000, 0, False)[0] == int_0_to_0, \"Error: lower endpoint test failing\"\n",
    "assert math.isclose(integrate(10000, 2 * np.pi, False)[0], int_0_to_2pi, abs_tol=0.03), \"Error: upper endpoint test failing\""
   ]
  },
  {
   "cell_type": "markdown",
   "metadata": {
    "ExecuteTime": {
     "end_time": "2020-02-06T19:16:58.784727Z",
     "start_time": "2020-02-06T19:16:58.777445Z"
    }
   },
   "source": [
    "**Part F.** Run your simulation with `isPlot=True` and `ub=`$\\pi$ for 1,000 samples so we can see your plot. Then, run your simulation (with `isPlot=False`) with at least 10,000 samples and estimate the value of the given integral. Be sure to leave your cells evaluated for the graders! Does your estimate agree with the exact value of the integral you computed in **Part A**? "
   ]
  },
  {
   "cell_type": "code",
   "execution_count": null,
   "metadata": {
    "ExecuteTime": {
     "end_time": "2020-02-06T19:35:55.766721Z",
     "start_time": "2020-02-06T19:35:55.369237Z"
    }
   },
   "outputs": [],
   "source": [
    "integrate(num_samples=10000, ub=2* np.pi, isPlot=True)"
   ]
  },
  {
   "cell_type": "markdown",
   "metadata": {},
   "source": [
    "It does agree!"
   ]
  },
  {
   "cell_type": "markdown",
   "metadata": {},
   "source": [
    "<br>\n",
    "\n",
    "---\n",
    "<a id='p3'></a>\n",
    "[Back to top](#top)\n",
    "### [25 points] Problem 3 - Mmmm... Donuts...\n",
    "\n",
    "<img src=\"http://astrokentico.s3.amazonaws.com/rojakdaily/media/1nichoras/homer%20simpson%20krispy%20kreme/main.jpg?ext=.jpg\" style=\"width:300px;\"/>\n",
    "\n",
    "You bring many donuts to work to share with your coworkers at the Boulder Nuclear Power Planet. But due to the high levels of radiation there, they must be inspected for safety. In particular, if the mean level of radiation in a sample from your batch of donuts is above [190 mSv (millisievert)](https://en.wikipedia.org/wiki/Sievert), then they are deemed unsafe and you must throw the whole batch away.\n",
    "\n",
    "You know that historically donuts at the power plant have, on average, 178 mSv of radiation, with a standard deviation of 65 mSv. For the test (to see if the donuts must be thrown away) you take the donut receipt and pick every fifth donut off it, and sample the radiation levels of those donuts. Assume you bought 245 donuts. "
   ]
  },
  {
   "cell_type": "markdown",
   "metadata": {},
   "source": [
    "**Part A:** What type of sample is this? What is the sample and what is the size of it? What is the sample space?"
   ]
  },
  {
   "cell_type": "markdown",
   "metadata": {},
   "source": [
    "Systemic sample, the sample is the donuts you actually picked and there are 49 of them. The sample space is every donut you bought. "
   ]
  },
  {
   "cell_type": "markdown",
   "metadata": {},
   "source": [
    "**Part B:** What is the probability that a donut batch is deemed unsafe?  You should at the very least set up and justify your calculation by hand (in Markdown/Mathjax), before executing any calculations in Python. But feel free to use python to actually do the calculations. You ***should*** use Python to retrieve critical values of a standard normal random variable (using a Z chart is so old school!). "
   ]
  },
  {
   "cell_type": "markdown",
   "metadata": {},
   "source": [
    "**Solution:**\n",
    "\n",
    "Let $X$ be the random variable representing the levels of radiation in the donut batch.\n",
    "\n",
    "Central Limit Theorem tells us $\\bar{X} \\sim N(\\mu, \\frac{\\sigma^2}{n})$, where $\\mu = 178$ mSv, $\\sigma = 65$ mSv, and $n=49$ donuts.\n",
    "\n",
    "So we want:\n",
    "$$\\begin{align}\n",
    "  P(\\bar{X} > 190) &= P\\left(Z > \\frac{190-178}{65/\\sqrt{49}}\\right) \\\\\n",
    "                   &= P(Z > 1.292) = 1 - P(Z \\leq 1.292) \\\\\n",
    "                   &= 1 - \\Phi(1.292) = \\fbox{0.0981}\n",
    "\\end{align}$$"
   ]
  },
  {
   "cell_type": "code",
   "execution_count": null,
   "metadata": {},
   "outputs": [],
   "source": [
    "print((190 - 178)/(65/7))\n",
    "print (\"The probbility of the donuts being rejected is: \" + str(1 - stats.norm.cdf(x=190, loc=178, scale=65/7)))"
   ]
  },
  {
   "cell_type": "markdown",
   "metadata": {},
   "source": [
    "**Part C.** Yikes! Seems like those donuts might be dangerous, but you really do not want to throw away donuts that frequently, so you propose to store the donuts in a lead-lined donut box. But lead also is not very good for your health, so you are motivated to use the least amount of lead possible. What is the maximum mean amount of radiation $\\mu$ for our donuts to have such that the probability that we will throw donuts out due to safety concerns is at most 0.02?\n",
    "\n",
    "Calculate this **by hand**, using Python only to perform arithmetic operations and compute critical values of a standard normal random variable."
   ]
  },
  {
   "cell_type": "markdown",
   "metadata": {},
   "source": [
    "**Solution:**\n",
    "\n",
    "Let's write what we want.\n",
    "\n",
    "$$P(\\bar{X} > 190) < 0.02$$\n",
    "\n",
    "And we know by the CLT that \n",
    "\n",
    "$$P(\\bar{X} > 190) = P \\left( \\frac{\\bar{X} - \\mu}{\\sigma/\\sqrt{n}} > \\frac{190-\\mu}{\\sigma/\\sqrt{49}}\\right) = P\\left (Z > \\frac{190-\\mu}{\\sigma/\\sqrt{49}}\\right ) = 1- P\\left (Z \\leq \\frac{190-\\mu}{\\sigma/\\sqrt{49}}\\right ) = 0.02$$\n",
    "\n",
    "This means we want the critical value of $Z$, $z_c$, such that:\n",
    "\n",
    "$$P\\left(Z \\leq \\frac{190-\\mu}{\\sigma/\\sqrt{49}}\\right) = 0.98$$\n",
    "\n",
    "That critical value $z_c$ can be computed from `stats.norm.ppf`:"
   ]
  },
  {
   "cell_type": "code",
   "execution_count": null,
   "metadata": {},
   "outputs": [],
   "source": [
    "z_crit = stats.norm.ppf(0.98)\n",
    "print(z_crit)"
   ]
  },
  {
   "cell_type": "markdown",
   "metadata": {},
   "source": [
    "Now, we can solve for $\\mu$:\n",
    "\n",
    "$\\begin{align}\n",
    " z_c &= \\dfrac{190 - \\mu}{\\sigma/\\sqrt{49}} \\\\\n",
    " \\Rightarrow \\mu &= 190 - z_c \\cdot \\dfrac{\\sigma}{7} \\\\\n",
    "                 &= 190 - 2.05 \\cdot \\dfrac{65}{7} \\\\\n",
    "                 &\\approx \\fbox{$170.93 ~\\text{mSv}$}\n",
    "\\end{align}$"
   ]
  },
  {
   "cell_type": "code",
   "execution_count": null,
   "metadata": {},
   "outputs": [],
   "source": [
    "mu_new = 190 - stats.norm.ppf(0.98)*65/7\n",
    "\n",
    "print(\"We are going to need a mean of no more than {:.4f} mSv\".format(mu_new))"
   ]
  },
  {
   "cell_type": "markdown",
   "metadata": {},
   "source": [
    "**Part D.**  Your supervisor at the plant decides that serving up donuts in a lead-lined box is a bad idea. Fair enough.\n",
    "\n",
    "But she is still imposing the requirement that the probability of a batch of donuts being rejected must be less than 0.02. However, she knows a different bakery that might be the solution. At Johnny's Super Consistent Baked Goods Emporium all the donuts are exactly the same in size, which means they are closer to being exactly the same in radiation content (less deviation). Suppose the mean and sample size remain unchanged. What is the largest standard deviation to satisfy this requirement?\n",
    "\n",
    "Calculate this **by hand**, using Python only to perform arithmetic operations and compute critical values of a standard normal random variable."
   ]
  },
  {
   "cell_type": "markdown",
   "metadata": {},
   "source": [
    "**Solution:**\n",
    "\n",
    "We can go about setting this up the same way as Part B. The critical value of $z_c$ is going to be the same as in the previous problem, but now we don't get to change $\\mu$, which is fixed back at 178 mSv. Instead, we must change $\\sigma$.\n",
    "\n",
    "\n",
    "$$P(\\bar{X} > 190) = P \\left( Z > \\frac{190-178}{\\sigma/\\sqrt{49}}\\right) = 1- P\\left (Z \\leq \\frac{190-178}{\\sigma/\\sqrt{49}}\\right ) = 0.02$$\n",
    "\n",
    "This means we want the critical value of $Z$, $z_c$, such that:\n",
    "\n",
    "$$P\\left(z_c \\leq \\frac{190-178}{\\sigma/\\sqrt{49}}\\right) = 0.98$$\n",
    "\n",
    "Again, that critical value $z_c$ can be computed from `stats.norm.ppf`:"
   ]
  },
  {
   "cell_type": "code",
   "execution_count": null,
   "metadata": {},
   "outputs": [],
   "source": [
    "z_crit = stats.norm.ppf(0.98)\n",
    "print(z_crit)"
   ]
  },
  {
   "cell_type": "markdown",
   "metadata": {},
   "source": [
    "So we have:\n",
    "\n",
    "$\\begin{align}\n",
    "  z_c &\\leq \\dfrac{190-178}{\\sigma/\\sqrt{7}} \\\\\n",
    "\\Rightarrow \\dfrac{\\sigma}{\\sqrt{49}} &\\leq \\dfrac{12}{z_c} \\\\\n",
    "\\Rightarrow \\dfrac{\\sigma z_c}{12} &\\leq \\sqrt{49} \\\\\n",
    "\\Rightarrow \\sigma &\\leq \\frac{12 \\sqrt{49}}{z_c} \\\\\n",
    "\\Rightarrow \\sigma &\\leq \\frac{84}{z_c} \\\\\n",
    "\\Rightarrow \\sigma &\\leq \\frac{84}{2.05} = 40.90\n",
    "\\end{align}$\n"
   ]
  },
  {
   "cell_type": "code",
   "execution_count": null,
   "metadata": {},
   "outputs": [],
   "source": [
    "max_standard_deviation = ((7 * 12) / stats.norm.ppf(.98))\n",
    "print(\"For Mu = 178: We need at most a standard deviation of {:.2f} mSv\".format(max_standard_deviation))"
   ]
  },
  {
   "cell_type": "markdown",
   "metadata": {},
   "source": [
    "**Part E:** Since donuts of differant diameters absorb differant amounts of radiation it is easy to model the standard deviation of radiation content in terms of the standard deviation in donut size. Assume the function $RD$ below takes in the standard deviation in millimeters of donut diameter $(\\sigma_d)$, and gives the radiation deviation in mSv.\n",
    "\n",
    "$\\begin{align}\n",
    "    RD(\\sigma_d) = \\frac{5^{\\sigma_d} \\times 1mSv}{6mm}\n",
    "\\end{align}$\n",
    "\n",
    "Johnny's bakes according to the following $\\textit{\"mathmatically\"}$ correct donut size:\n",
    "\n",
    "<img src=\"http://www.conquermaths.com/news/images/decinfo.jpg\" style=\"width:300px;\"/>\n",
    "\n",
    "So they strive for a donut diameter of 72 - 82 mm, with less than 5mm of standard deviation. However, we're not taking their word for it. We've taken a sample of ***36*** donuts from Johnny's to determine if their low standard deviation satisfies our requirement of less than $0.02$ chance that we throw away our donuts. The observed standard deviation in donut size was 2.8mm. Assume that the mean radiation remains unchanged from the other donuts. Do Johnny's donuts satisfy our requirement of less than $0.02$ chance that we throw them away? As per above, set up your equation in Markdown, then use python as a calculator / to retrieve standard normal values. "
   ]
  },
  {
   "cell_type": "markdown",
   "metadata": {},
   "source": [
    "**Solution:**  Here we need to plug in the equation relating standard deviation of donut size to radiation content in to the equation we developed in **Part A** and determine if there is a less than $0.02$ chance that we throw the donuts away. However, we also changed the sample size, so we need to take that into account too. \n",
    "\n",
    "\n",
    "$\\begin{align}\n",
    "P(\\bar{X} > 190) &= 1-P(Z \\leq \\frac{190-178}{\n",
    "        \\frac{5^{\\sigma_d}}{6} / \\sqrt{36}}) \\\\\n",
    "        &= 1 - P(Z \\leq \\frac{190-178}{\n",
    "        \\frac{5^{2.8}}{6} / \\sqrt{36}})\\\\\n",
    "        &= 1 - P(Z \\leq \\frac{12}{\n",
    "        15.09 / 6})\\\\\n",
    "        &= 1 - P(Z\\leq 5.96)\\\\\n",
    "        &\\approx 9.29 * 10^-7\n",
    "\\end{align}$"
   ]
  },
  {
   "cell_type": "code",
   "execution_count": null,
   "metadata": {},
   "outputs": [],
   "source": [
    "z = 12 / ((5**2.8/6)/6)\n",
    "print(1 - stats.norm.cdf(z))"
   ]
  },
  {
   "cell_type": "markdown",
   "metadata": {},
   "source": [
    "**Part F.** Can you think of any potential issues with using a normal distribution to model the radiation content of our donuts? Think about a really wide standard deviation, and a way smaller mean (say $\\mu = 2$). "
   ]
  },
  {
   "cell_type": "markdown",
   "metadata": {},
   "source": [
    "**Solution:**\n",
    "\n",
    "A normal distribution with a really wide standard deviation, or with a lower mean, would put some probability mass over donut radiation content which is **negative**.  That does not make sense physically.\n",
    "\n",
    "Things people would do in practice to work around this:\n",
    "1. use a truncated normal distribution\n",
    "1. use a lognormal (or other half-infinite) distribution\n",
    "1. do not eat irradiated donuts in the first place"
   ]
  },
  {
   "cell_type": "markdown",
   "metadata": {},
   "source": [
    "<br>\n",
    "\n",
    "---\n",
    "<a/ id='p4'></a>\n",
    "[Back to top](#top)\n",
    "\n",
    "##  [25 points] Problem 4 - CDF Inversion Sampling\n",
    "\n",
    "In notebook 12, we looked at one method many pieces of statistical software use to turn pseudorandom numbers coming from the $U(0,1)$ distribution into those with a normal distribution.  In this problem we examine another such method.\n",
    "\n",
    "### a) Simulating an Exponential\n",
    "#### i ) The exponential distribution has pdf $f(x)= \\lambda e^{-\\lambda x}$ for $x\\ge 0$.  Use the following markdown cell to compute by hand the cdf of the exponential."
   ]
  },
  {
   "cell_type": "markdown",
   "metadata": {},
   "source": [
    "**Rubric:** 3 points\n",
    "* 1 point for effort\n",
    "* 1 point for integrating from 0 to x\n",
    "* 1 point for correct answer\n"
   ]
  },
  {
   "cell_type": "markdown",
   "metadata": {},
   "source": [
    "CDF is $F(x)=\\int_0^x  \\lambda e^{-\\lambda t} \\, dt = (e^{-\\lambda t})|^x_0=1- e^{-\\lambda x}$ (for $x \\in (0,1)$)\n",
    "\n",
    "\n"
   ]
  },
  {
   "cell_type": "markdown",
   "metadata": {},
   "source": [
    "#### ii) The cdf is a function that takes x-values (or times, in the case of the exponential) and returns probabilities as the y-values.  Specifically, it returns the probability $P(X \\leq x)$.  Find the *inverse* of this function, that takes as input probabilities and outputs times."
   ]
  },
  {
   "cell_type": "markdown",
   "metadata": {},
   "source": [
    "For $F(x)=1- e^{-\\lambda x}$, we subract 1, multiply by negative 1, take the natural logarithm, and divide out $-\\lambda$ to find \n",
    "$$F^{-1}(x)=\\frac{\\ln(1-x)}{-\\lambda}$$"
   ]
  },
  {
   "cell_type": "markdown",
   "metadata": {},
   "source": [
    "\n"
   ]
  },
  {
   "cell_type": "markdown",
   "metadata": {},
   "source": [
    "\n",
    "#### iii) Simulate 1000 random $U(0,1)$ variables.  Since these are numbers in $[0,1]$, we could think of them as random *probabilities*.  Plug them into the function you found in ii), then plot a histogram of the results.  Overlay the theoretical density of the exponential.  For each of these, use $\\lambda=1/4$."
   ]
  },
  {
   "cell_type": "code",
   "execution_count": null,
   "metadata": {},
   "outputs": [],
   "source": [
    "runifs=np.random.uniform(0,1,size=1000)\n",
    "\n",
    "rexps=[np.log(1-xi)/(-1/8) for xi in runifs]\n",
    "\n",
    "xgrd=np.linspace(0,40, 1000)\n",
    "fexp=[1/8*np.exp(-xi/8) for xi in xgrd]\n",
    "\n",
    "fig, ax = plt.subplots(figsize=(12,6))\n",
    "ax.set_title(\"Simulated versus Theoretical Densities\", fontsize=20)\n",
    "ax.set_xlabel(\"X\", fontsize=16)\n",
    "ax.set_ylabel(\"Probability\", fontsize=16)\n",
    "ax.set_xlabel(\"X Value\")\n",
    "\n",
    "ax.grid(True, alpha=0.25)\n",
    "plt.hist(rexps, density=True, bins=10)\n",
    "plt.plot(xgrd, fexp)"
   ]
  },
  {
   "cell_type": "markdown",
   "metadata": {},
   "source": [
    "### b) Simulating a new distribution\n",
    "#### i) Consider a continuous random variable given by $f(x)=\\frac{\\cos(x)}{2}$ for $x \\in [0, \\pi]$.  Find the cdf and inverse cdf of X."
   ]
  },
  {
   "cell_type": "markdown",
   "metadata": {},
   "source": [
    "$F(x)=\\int_0^x \\cos(x)/2 \\, dx= \\frac{\\sin(x) + 1}{2} \\implies F^{-1}(x)=\\sin^{-1}(2x - 1)$ \n",
    "\n",
    "\n"
   ]
  },
  {
   "cell_type": "markdown",
   "metadata": {},
   "source": [
    "\n",
    "#### ii) Simulate draws from X by simluating 1000 $U[0,1]$ random variables and plugging them into the inverse cdf you just found.  As in part a), plot a histogram of the random variables against their density function."
   ]
  },
  {
   "cell_type": "code",
   "execution_count": null,
   "metadata": {},
   "outputs": [],
   "source": [
    "rsins= np.arcsin(2 * runifs - 1)\n",
    "\n",
    "\n",
    "xgrd=np.linspace(-np.pi/2,np.pi/2, 1000)\n",
    "fsin=[np.cos(xi)/2 for xi in xgrd]\n",
    "\n",
    "fig, ax = plt.subplots(figsize=(12,6))\n",
    "ax.set_title(\"Simulated versus Theoretical Densities\", fontsize=20)\n",
    "ax.set_xlabel(\"X\", fontsize=16)\n",
    "ax.set_ylabel(\"Probability\", fontsize=16)\n",
    "ax.set_xlim([-np.pi/2,np.pi/2])\n",
    "ax.set_ylim([0,1])\n",
    "\n",
    "ax.grid(True, alpha=0.25)\n",
    "plt.hist(rsins, density=True)\n",
    "plt.plot(xgrd, fsin)\n"
   ]
  },
  {
   "cell_type": "markdown",
   "metadata": {},
   "source": [
    "### c) Generalizing\n",
    "\n",
    "Describe in words how this process might work on a discrete random variable.  You may use the Bernoulli as an example, if you wish."
   ]
  },
  {
   "cell_type": "markdown",
   "metadata": {},
   "source": [
    "The basic idea for a Bernoulli is intuitive: we want a probability of $p$ that we get a \"1\" from our simulation and a probabiliti of $1-p$ to get a \"0\".  So we divide the interval where our random $U(0,1)$ comes from into pieces of length $p$ and $1-p$, and if the random uniform is in the piece of length $p$ we assign it a \"1\".\n",
    "\n",
    "We should formalize what this means in terms of the cdf, however!  First, let's sketch the pmf and cdf of the Bernoulli."
   ]
  },
  {
   "cell_type": "code",
   "execution_count": null,
   "metadata": {},
   "outputs": [],
   "source": [
    "##PMF\n",
    "support=[0,1]\n",
    "p=.3\n",
    "fbern=[1-p,p]\n",
    "\n",
    "##CDF\n",
    "xgrd=np.linspace(-.1,1.1,10000)\n",
    "cdfbern=stats.binom.cdf(xgrd,1,p)\n",
    "\n",
    "\n",
    "fig, (ax1,ax2) = plt.subplots(1,2,figsize=(12,6))\n",
    "ax1.plot(support, fbern, 'ro', ms=8, mec='r')\n",
    "ax1.set_title(\"Bernoulli PMF\", fontsize=20)\n",
    "ax1.set_xlim([-.1,1.1])\n",
    "ax1.set_ylim([-.1,1.1])\n",
    "ax1.vlines(support, 0, fbern, colors='r', linestyles='-', lw=2)\n",
    "\n",
    "ax2.set_title(\"Bernoulli CDF\", fontsize=20)\n",
    "ax2.plot(xgrd, cdfbern)\n",
    "ax2.set_xlim([-.1,1.1])\n",
    "ax2.set_ylim([-.1,1.1])\n",
    "ax2.scatter([0,1], [1-p,1])\n",
    "ax2.scatter([0,1], [0,1-p], facecolors='none',edgecolors='r')"
   ]
  },
  {
   "cell_type": "markdown",
   "metadata": {},
   "source": [
    "The cdf of the bernouli is given by:\n",
    "\n",
    "$\\begin{align}\n",
    " F(x)=   \\left\\{\n",
    "\\begin{array}{ll}\n",
    "      0 & x < 0 \\\\\n",
    "      1 - p & 0\\leq x<1 \\\\\n",
    "      (1 - p) + p & x > 1 \\\\\n",
    "\\end{array} \n",
    "\\right.\n",
    "\\end{align}$\n",
    "\n",
    "So the inverse is given by switching the $x$ and $y$ and solving for $y$. Here, we'll omit the less than zero case becuase it is outside the domain of our random uniform variable.\n",
    "\n",
    "$\\begin{align}\n",
    " y =   \\left\\{\n",
    "\\begin{array}{ll}\n",
    "      1 - p & 0\\leq x<1 \\\\\n",
    "      1 & x \\geq 1 \\\\\n",
    "\\end{array} \n",
    "\\right.\n",
    "\\end{align}$\n",
    "\n",
    "\n",
    "$\\begin{align}\n",
    " F^{-1}(x)=   \\left\\{\n",
    "\\begin{array}{ll}\n",
    "      0 & 0\\leq x < 1 - p \\\\\n",
    "      1 & x \\geq 1 -p \\\\\n",
    "\\end{array} \n",
    "\\right.\n",
    "\\end{align}$"
   ]
  },
  {
   "cell_type": "markdown",
   "metadata": {},
   "source": [
    "We can plot this function with our random variables (using $p=0.3$ below):"
   ]
  },
  {
   "cell_type": "code",
   "execution_count": null,
   "metadata": {},
   "outputs": [],
   "source": [
    "p=.3\n",
    "\n",
    "##PMF\n",
    "support=[0,1]\n",
    "\n",
    "fbern=[1-p,p]\n",
    "\n",
    "\n",
    "#Inverse CDF\n",
    "def inverse_cdf(y):\n",
    "    if y < 1 -p:\n",
    "        return 0\n",
    "    elif y >= 1 -p:\n",
    "        return 1\n",
    "    \n",
    "inverse_cdf_values = np.vectorize(inverse_cdf)(runifs)\n",
    "\n",
    "fig, ax = plt.subplots(1,1,figsize=(12,6))\n",
    "ax.hist(inverse_cdf_values, weights=[1/len(inverse_cdf_values) for x in inverse_cdf_values])\n",
    "\n",
    "ax.plot(support, fbern, 'ro', ms=8, mec='r')\n",
    "ax.set_title(\"Simulated Vs Theoritical\", fontsize=20)\n",
    "\n",
    "ax.vlines(support, 0, fbern, colors='r', linestyles='-', lw=2)\n",
    "plt.show()"
   ]
  },
  {
   "cell_type": "markdown",
   "metadata": {},
   "source": [
    "Looks pretty good!"
   ]
  },
  {
   "cell_type": "code",
   "execution_count": null,
   "metadata": {},
   "outputs": [],
   "source": []
  }
 ],
 "metadata": {
  "kernelspec": {
   "display_name": "Python 3",
   "language": "python",
   "name": "python3"
  },
  "language_info": {
   "codemirror_mode": {
    "name": "ipython",
    "version": 3
   },
   "file_extension": ".py",
   "mimetype": "text/x-python",
   "name": "python",
   "nbconvert_exporter": "python",
   "pygments_lexer": "ipython3",
   "version": "3.7.3"
  }
 },
 "nbformat": 4,
 "nbformat_minor": 4
}
