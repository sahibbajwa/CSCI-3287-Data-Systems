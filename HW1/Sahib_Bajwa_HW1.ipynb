{
 "cells": [
  {
   "cell_type": "markdown",
   "metadata": {
    "colab_type": "text",
    "id": "vUCttYssmhet"
   },
   "source": [
    "<a id='top'></a>\n",
    "\n",
    "# Homework 1: Data Cleaning and Exploratory Data Analysis \n",
    "***\n",
    "\n",
    "**Name**: Sahib Bajwa\n",
    "\n",
    "***\n",
    "\n",
    "This assignment is due on Canvas by **11:59 PM on Sunday June 14**. Your solutions to theoretical questions should be done in Markdown directly below the associated question.  Your solutions to computational questions should include any specified Python code and results as well as written commentary on your conclusions.  Remember that you are encouraged to discuss the problems with your classmates, but **you must write all code and solutions on your own**.\n",
    "\n",
    "**NOTES**: \n",
    "\n",
    "- If you're not familiar with typesetting math directly into Markdown then by all means, do your work on paper first and then typeset it later.  Refer the [reference guide](https://math.meta.stackexchange.com/questions/5020/mathjax-basic-tutorial-and-quick-reference) on writing math in Markdown. **All** of your written commentary, justifications and mathematical work should be in Markdown.\n",
    "\n",
    "- Because you can technically evaluate notebook cells is a non-linear order, it's a good idea to do Kernel $\\rightarrow$ Restart & Run All as a check before submitting your solutions.  That way if we need to run your code you will know that it will work as expected. \n",
    "\n",
    "- It is **bad form** to make your reader interpret numerical output from your code.  If a question asks you to compute some value from the data you should show your code output **AND** write a summary of the results in Markdown directly below your code. \n",
    "\n",
    "- This probably goes without saying, but... For any question that asks you to calculate something, you **must show all work and justify your answers to receive credit**. Sparse or nonexistent work will receive sparse or nonexistent credit. \n",
    "\n",
    "---\n",
    "**Shortcuts:**  [Problem 1](#p1) | [Problem 2](#p2) | [Problem 3](#p3) | [Problem 4](#p4) | [Problem 5](#p5) \n",
    "\n",
    "---"
   ]
  },
  {
   "cell_type": "code",
   "execution_count": 54,
   "metadata": {
    "colab": {},
    "colab_type": "code",
    "id": "W6uwmKUBmheu"
   },
   "outputs": [],
   "source": [
    "import pandas as pd\n",
    "import numpy as np\n",
    "import matplotlib.pylab as plt\n",
    "%matplotlib inline\n",
    "from numpy import percentile"
   ]
  },
  {
   "cell_type": "markdown",
   "metadata": {
    "colab_type": "text",
    "id": "QSCtARddmhex"
   },
   "source": [
    "[Back to top](#top)\n",
    "\n",
    "<br>\n",
    "\n",
    "<a id='p1'></a>\n",
    "\n",
    "### (10 points) Problem 1\n",
    "***\n",
    "\n",
    "<img style=\"float: left; width: 200px; padding: 3mm;\" src=\"https://aquarium.org/wp-content/uploads/2015/08/Seahorse-female.jpg\" alt=\"Drawing\"/>  \n",
    "Poseidon is studying seahorses. Locations in each of the Atlantic, Pacific, Indian, Artic, and Southern Oceans are chosen to catch and release seahorses. After being caught, the seahorses are monitored for 24 hours while being fed organic, free-range plankton. The amount of plankton that each seahorse eats is recorded in an app on Poseidon’s phone, called Hippocampus. He collects 6 seahorses from the Arctic Ocean, 36 seahorses from the Pacific Ocean, 12 seahorses from the Indian Ocean, 6 seahorses from the Southern Ocean, and 42 seahorses from the Atlantic Ocean. \n",
    "\n",
    "Poseidon wants to get a sense for the average amount of plankton eaten by seahorses, so he uses the Hippcampus app to first order the seahorses in terms of when each seahorse was caught (first caught to last caught). Then, he selects every 3rd seahorse to see how much plankton was eaten.\n",
    "\n",
    "$$ \\quad $$\n",
    "<br>\n",
    "<br>\n",
    "<br>\n",
    "**Part A:** Identify the following: \n",
    "\n",
    "- the population \n",
    "- the sample frame \n",
    "- the sample \n",
    "- the type of sample \n",
    "- the quantity of interest"
   ]
  },
  {
   "cell_type": "markdown",
   "metadata": {
    "colab_type": "text",
    "id": "olYX30QKmhey"
   },
   "source": [
    "The population is every seahorse.\n",
    "\n",
    "The sample frame is the 6 seahorse from the Arctic Ocean, 36 seahorses from the Pacific Ocean, 12 seahorses from the Indian Ocean, 6 seahorses from the Southern Ocean, and 42 seahorses from the Atlantic Ocean.\n",
    "\n",
    "The sample is 1 seahorse from the Arctic Ocean, 6 seahorses from the Pacific Ocean, 2 seahorses from the Indian Ocean, 1 seahorses from the Southern Ocean, and 7 seahorses from the Atlantic Ocean.\n",
    "\n",
    "The type of sample is a systematic sample.\n",
    "\n",
    "The quantity of interest is the average amount of plankton eaten by seahorses."
   ]
  },
  {
   "cell_type": "markdown",
   "metadata": {
    "colab_type": "text",
    "id": "6Anzrna1mhez"
   },
   "source": [
    "[Back to top](#top)\n",
    "\n",
    "<br>\n",
    "\n",
    "<a id='p2'></a>\n",
    "\n",
    "### (25 points) Problem 2\n",
    "***\n",
    "\n",
    "A method to investigate the sensitivity of the sample mean and sample median to extreme outliers and changes in the dataset is to replace one or more elements in a given dataset by a number $y$ and investigate the effect when $y$ changes. To illustrate this, consider the following dataset:\n",
    " \n",
    "$$  4.3 \\quad 5.2 \\quad 5.0 \\quad 3.8 \\quad 4.1 \\quad 5.5 \\quad 1.9 $$\n",
    "\n",
    "\n"
   ]
  },
  {
   "cell_type": "markdown",
   "metadata": {
    "colab_type": "text",
    "id": "-tKAeJL7mhez"
   },
   "source": [
    "**Part A:** Compute the sample mean and sample median. Do not use the canned mean and median python functions. Write your own code to compute these quantities. You may use the python length and sort functions, but that is it."
   ]
  },
  {
   "cell_type": "code",
   "execution_count": 55,
   "metadata": {
    "colab": {},
    "colab_type": "code",
    "id": "3owAi5n_mhe0"
   },
   "outputs": [
    {
     "name": "stdout",
     "output_type": "stream",
     "text": [
      "4.257142857142857 4.3\n"
     ]
    }
   ],
   "source": [
    "# Your code here.\n",
    "array = [4.3, 5.2, 5.0, 3.8, 4.1, 5.5, 1.9]\n",
    "arrayMean = sum(array)/len(array)\n",
    "x = sorted(array)\n",
    "y = len(x)\n",
    "if y % 2 != 0:\n",
    "    y = y - 1\n",
    "arrayMedian = x[int(y/2)]\n",
    "print(arrayMean, arrayMedian)"
   ]
  },
  {
   "cell_type": "markdown",
   "metadata": {
    "colab_type": "text",
    "id": "7Y3szx9amhe2"
   },
   "source": [
    "**Part B:** Now, recompute the mean and the median using the python numpy functions. Compare your answers to what you computed in Part A. Do your answer match? (Hint: They should!)"
   ]
  },
  {
   "cell_type": "code",
   "execution_count": 56,
   "metadata": {
    "colab": {},
    "colab_type": "code",
    "id": "arBk8YKtmhe3"
   },
   "outputs": [
    {
     "name": "stdout",
     "output_type": "stream",
     "text": [
      "4.257142857142857 4.3\n"
     ]
    }
   ],
   "source": [
    "# Your code here.\n",
    "array = [4.3, 5.2, 5.0, 3.8, 4.1, 5.5, 1.9]\n",
    "print(np.mean(array), np.median(array))"
   ]
  },
  {
   "cell_type": "markdown",
   "metadata": {
    "colab_type": "text",
    "id": "P9I13DRAmhe6"
   },
   "source": [
    "Yes, my answers matched."
   ]
  },
  {
   "cell_type": "markdown",
   "metadata": {
    "colab_type": "text",
    "id": "ulpFIaaCmhe6"
   },
   "source": [
    "**Part C:** Now consider the following data set. \n",
    "$$  4.3 \\quad 5.2 \\quad 5.0 \\quad 3.8 \\quad 4.1 \\quad 5.5 \\quad 1.9 \\quad y$$\n",
    "\n",
    "Is there a value for $y$ that would make the mean of the data equal to 7? If so, calculate the value of $y$ that makes the mean equal to 7. If not, clearly explain why not.\n",
    "    \n",
    "Is there a value for $y$ that would make the median of the data equal to 7? If so, calculate the values of $y$ that makes the median equal to 7. If not, clearly explain why not."
   ]
  },
  {
   "cell_type": "markdown",
   "metadata": {
    "colab_type": "text",
    "id": "5hhaaH8Xmhe7"
   },
   "source": [
    "To find the value for y that will make the mean equal to 7 we solve for y by multiplying the amount of items in the set to 7, then subtracting the sum of all items in the set. Although we consider y when counting the number of items in the set, we do not consider y when summing all items in the set. This is due to it not being a number and the variable we are solving for. "
   ]
  },
  {
   "cell_type": "code",
   "execution_count": 57,
   "metadata": {
    "colab": {},
    "colab_type": "code",
    "id": "mejLX0g-mhe7"
   },
   "outputs": [
    {
     "name": "stdout",
     "output_type": "stream",
     "text": [
      "26.200000000000003\n"
     ]
    }
   ],
   "source": [
    "# Your code here.\n",
    "array = [4.3, 5.2, 5.0, 3.8, 4.1, 5.5, 1.9]\n",
    "yval1 = 7*(len(array)+1)\n",
    "yval2 = yval1 - sum(array)\n",
    "print(yval2)"
   ]
  },
  {
   "cell_type": "markdown",
   "metadata": {
    "colab_type": "text",
    "id": "59dSwkv4mhe-"
   },
   "source": [
    "There is no way for the median to be equal to 7 by changing the value of y due to what a median is. The only way to get 7 in the set is to set y to 7. But when we set y to 7 and sort the array, 7 cannot be in the middle. Therefor, there is no value for y that would make the median of teh data equal to 7."
   ]
  },
  {
   "cell_type": "code",
   "execution_count": 58,
   "metadata": {
    "colab": {},
    "colab_type": "code",
    "id": "_sIeSkRemhe-"
   },
   "outputs": [],
   "source": [
    "# Your code here."
   ]
  },
  {
   "cell_type": "markdown",
   "metadata": {
    "colab_type": "text",
    "id": "cmK1yL75mhfD"
   },
   "source": [
    "**Part D**: Compute the sample variance and the sample standard deviation for the original dataset given in part A using the formulas given in class. You may not use the built-in python variance, standard deviation, or sum functions. Using the length and square root functions is fine."
   ]
  },
  {
   "cell_type": "code",
   "execution_count": 59,
   "metadata": {
    "colab": {},
    "colab_type": "code",
    "id": "5F2eKDgdmhfE"
   },
   "outputs": [
    {
     "name": "stdout",
     "output_type": "stream",
     "text": [
      "1.4628571428571433 1.2094863136295273\n"
     ]
    }
   ],
   "source": [
    "# Your code here.\n",
    "array = [4.3, 5.2, 5.0, 3.8, 4.1, 5.5, 1.9]\n",
    "arrayMean = sum(array)/len(array)\n",
    "x = 0\n",
    "\n",
    "for item in array:\n",
    "    x = x + ((item-arrayMean)**2)\n",
    "\n",
    "arrayVar = x/(len(array)-1)\n",
    "arrayDev = np.sqrt(arrayVar)\n",
    "\n",
    "print(arrayVar, arrayDev)"
   ]
  },
  {
   "cell_type": "markdown",
   "metadata": {
    "colab_type": "text",
    "id": "CHeFfUMxmhfG"
   },
   "source": [
    "**Part E:** Execute the following code. Does it match what you computed in part D? Why or why not? If not, how can you correct the code below?"
   ]
  },
  {
   "cell_type": "code",
   "execution_count": 60,
   "metadata": {
    "colab": {},
    "colab_type": "code",
    "id": "jYRJaOHEmhfG"
   },
   "outputs": [
    {
     "name": "stdout",
     "output_type": "stream",
     "text": [
      "The sample variance is:  1.2538775510204085\n",
      "the std dev is:  1.1197667395580244\n"
     ]
    }
   ],
   "source": [
    "dataset = [4.3, 5.2, 5.0, 3.8, 4.1, 5.5, 1.9]\n",
    "print(\"The sample variance is: \", np.var(dataset))\n",
    "print(\"the std dev is: \", np.std(dataset))"
   ]
  },
  {
   "cell_type": "markdown",
   "metadata": {
    "colab_type": "text",
    "id": "U5_STB1jmhfJ"
   },
   "source": [
    "No, my computed values do not match. After removing the -1 from len(array) when computing arrayVar, my values do match. I believe this to be due to how indexing in python works. Removing the -1 will give the correct answer because it will make the length the equation needs correct."
   ]
  },
  {
   "cell_type": "code",
   "execution_count": 61,
   "metadata": {
    "colab": {},
    "colab_type": "code",
    "id": "D5mLo7eMmhfJ"
   },
   "outputs": [
    {
     "name": "stdout",
     "output_type": "stream",
     "text": [
      "1.2538775510204085 1.1197667395580244\n"
     ]
    }
   ],
   "source": [
    "# Your code here.\n",
    "array = [4.3, 5.2, 5.0, 3.8, 4.1, 5.5, 1.9]\n",
    "arrayMean = sum(array)/len(array)\n",
    "x = 0\n",
    "\n",
    "for item in array:\n",
    "    x = x + ((item-arrayMean)**2)\n",
    "\n",
    "arrayVar = x/(len(array))\n",
    "arrayDev = np.sqrt(arrayVar)\n",
    "\n",
    "print(arrayVar, arrayDev)"
   ]
  },
  {
   "cell_type": "markdown",
   "metadata": {
    "colab_type": "text",
    "id": "pY43hZ9TmhfM"
   },
   "source": [
    "**Part F**: Again consider the data set from Part C: $$  4.3 \\quad 5.2 \\quad 5.0 \\quad 3.8 \\quad 4.1 \\quad 5.5 \\quad 1.9 \\quad y$$\n",
    "\n",
    "Compute the sample median for the following cases (you may use whatever built-in python functions you'd like): \n",
    "- $y=5$ \n",
    "- $y=50$ \n",
    "- $y=4.36$ \n",
    "- $y \\to \\infty$ \n",
    "- $y \\to -\\infty$"
   ]
  },
  {
   "cell_type": "code",
   "execution_count": 62,
   "metadata": {
    "colab": {},
    "colab_type": "code",
    "id": "9znR0pnumhfM"
   },
   "outputs": [
    {
     "name": "stdout",
     "output_type": "stream",
     "text": [
      "4.65\n",
      "4.65\n",
      "4.33\n",
      "4.65\n",
      "4.199999999999999\n"
     ]
    }
   ],
   "source": [
    "# Your code here.\n",
    "array = [4.3, 5.2, 5.0, 3.8, 4.1, 5.5, 1.9]\n",
    "changingYs = [5, 50, 4.36, np.inf, -np.inf]\n",
    "\n",
    "for item in changingYs:\n",
    "    array.append(item)\n",
    "    print(np.median(array))\n",
    "    array.pop(len(array)-1)"
   ]
  },
  {
   "cell_type": "markdown",
   "metadata": {
    "colab_type": "text",
    "id": "eJijy5GqmhfP"
   },
   "source": [
    "**Part G**: Think about the previous parts, above, and describe in words or mathematical notation the answer to the following question:\n",
    "\n",
    "- By varying $y$, what is the set of all the possible values that the sample mean could take on?\n"
   ]
  },
  {
   "cell_type": "markdown",
   "metadata": {
    "colab_type": "text",
    "id": "wUESd1N4mhfP"
   },
   "source": [
    "Considering we use infinity and negative infinity, the range of possible values are any computed values where y is between negative infinity and infinity. Between 4.199999999999999 (when y is negative infinity), and 4.65 (when y is positive infinity)."
   ]
  },
  {
   "cell_type": "markdown",
   "metadata": {
    "colab_type": "text",
    "id": "2CA4zzH1mhfQ"
   },
   "source": [
    "**Part H**: Describe in words or mathematical notation, what happens to the sample standard deviation when $y$ is varied in the following ways: \n",
    " \n",
    "- $y \\to \\infty$ \n",
    "- $y \\to \\bar{x}$"
   ]
  },
  {
   "cell_type": "markdown",
   "metadata": {
    "colab_type": "text",
    "id": "FGu381p4mhfQ"
   },
   "source": [
    "As y approaches infinity, the standard deviation will also approach infinity. As the values in the array increase (and all else stays the same), the standard deviation increases.\n",
    "\n",
    "As y approaces the mean, the standard deviation will decrease. Since each value is subtracted by the mean then squared, the standard deviation decreases."
   ]
  },
  {
   "cell_type": "markdown",
   "metadata": {
    "colab_type": "text",
    "id": "nKklB145mhfQ"
   },
   "source": [
    "[Back to top](#top)\n",
    "\n",
    "<a id='p3'></a>\n",
    "\n",
    "## (25 pts) Problem 3\n",
    "*** \n",
    "Some claim that the final hours aboard the RMS Titanic were marked by \"class warfare\" in which the people with first-class tickets took all the good spots on the lifeboats; others claim that the final hours were characterized by male chivalry, in which the men valiantly gave up their positions in the boats and succumbed bravely to the depths of the Atlantic. \n",
    "\n",
    "We have the data on survival rates by class and by sex, so let's figure out whether there is evidence for these scenarios. Access the Titanic data in `titanic_data.csv` and store it in a Pandas DataFrame. The data contains information pertaining to class status (**Pclass**), survival (**Survived**), and gender (**Sex**) of passengers, among other things. Be sure to use the `titanic_data.csv` data set, *not* the `clean_titanic_data` file from the in-class notebook."
   ]
  },
  {
   "cell_type": "code",
   "execution_count": 63,
   "metadata": {
    "colab": {},
    "colab_type": "code",
    "id": "0ff8XvJcmhfR"
   },
   "outputs": [
    {
     "data": {
      "text/html": [
       "<div>\n",
       "<style scoped>\n",
       "    .dataframe tbody tr th:only-of-type {\n",
       "        vertical-align: middle;\n",
       "    }\n",
       "\n",
       "    .dataframe tbody tr th {\n",
       "        vertical-align: top;\n",
       "    }\n",
       "\n",
       "    .dataframe thead th {\n",
       "        text-align: right;\n",
       "    }\n",
       "</style>\n",
       "<table border=\"1\" class=\"dataframe\">\n",
       "  <thead>\n",
       "    <tr style=\"text-align: right;\">\n",
       "      <th></th>\n",
       "      <th>PassengerId</th>\n",
       "      <th>Survived</th>\n",
       "      <th>Pclass</th>\n",
       "      <th>Name</th>\n",
       "      <th>Sex</th>\n",
       "      <th>Age</th>\n",
       "      <th>SibSp</th>\n",
       "      <th>Parch</th>\n",
       "      <th>Ticket</th>\n",
       "      <th>Fare</th>\n",
       "      <th>Cabin</th>\n",
       "      <th>Embarked</th>\n",
       "    </tr>\n",
       "  </thead>\n",
       "  <tbody>\n",
       "    <tr>\n",
       "      <td>0</td>\n",
       "      <td>1</td>\n",
       "      <td>0</td>\n",
       "      <td>3</td>\n",
       "      <td>Braund, Mr. Owen Harris</td>\n",
       "      <td>male</td>\n",
       "      <td>36.0</td>\n",
       "      <td>1</td>\n",
       "      <td>0</td>\n",
       "      <td>A/5 21171</td>\n",
       "      <td>7.2500</td>\n",
       "      <td>NaN</td>\n",
       "      <td>S</td>\n",
       "    </tr>\n",
       "    <tr>\n",
       "      <td>1</td>\n",
       "      <td>2</td>\n",
       "      <td>1</td>\n",
       "      <td>1</td>\n",
       "      <td>Cumings, Mrs. John Bradley (Florence Briggs Th...</td>\n",
       "      <td>female</td>\n",
       "      <td>18.0</td>\n",
       "      <td>1</td>\n",
       "      <td>0</td>\n",
       "      <td>PC 17599</td>\n",
       "      <td>71.2833</td>\n",
       "      <td>C85</td>\n",
       "      <td>C</td>\n",
       "    </tr>\n",
       "    <tr>\n",
       "      <td>2</td>\n",
       "      <td>3</td>\n",
       "      <td>1</td>\n",
       "      <td>3</td>\n",
       "      <td>Heikkinen, Miss. Laina</td>\n",
       "      <td>female</td>\n",
       "      <td>14.0</td>\n",
       "      <td>0</td>\n",
       "      <td>0</td>\n",
       "      <td>STON/O2. 3101282</td>\n",
       "      <td>7.9250</td>\n",
       "      <td>NaN</td>\n",
       "      <td>S</td>\n",
       "    </tr>\n",
       "    <tr>\n",
       "      <td>3</td>\n",
       "      <td>4</td>\n",
       "      <td>1</td>\n",
       "      <td>1</td>\n",
       "      <td>Futrelle, Mrs. Jacques Heath (Lily May Peel)</td>\n",
       "      <td>female</td>\n",
       "      <td>27.0</td>\n",
       "      <td>1</td>\n",
       "      <td>0</td>\n",
       "      <td>113803</td>\n",
       "      <td>53.1000</td>\n",
       "      <td>C123</td>\n",
       "      <td>S</td>\n",
       "    </tr>\n",
       "    <tr>\n",
       "      <td>4</td>\n",
       "      <td>5</td>\n",
       "      <td>0</td>\n",
       "      <td>3</td>\n",
       "      <td>Allen, Mr. William Henry</td>\n",
       "      <td>male</td>\n",
       "      <td>63.0</td>\n",
       "      <td>0</td>\n",
       "      <td>0</td>\n",
       "      <td>373450</td>\n",
       "      <td>8.0500</td>\n",
       "      <td>NaN</td>\n",
       "      <td>S</td>\n",
       "    </tr>\n",
       "  </tbody>\n",
       "</table>\n",
       "</div>"
      ],
      "text/plain": [
       "   PassengerId  Survived  Pclass  \\\n",
       "0            1         0       3   \n",
       "1            2         1       1   \n",
       "2            3         1       3   \n",
       "3            4         1       1   \n",
       "4            5         0       3   \n",
       "\n",
       "                                                Name     Sex   Age  SibSp  \\\n",
       "0                            Braund, Mr. Owen Harris    male  36.0      1   \n",
       "1  Cumings, Mrs. John Bradley (Florence Briggs Th...  female  18.0      1   \n",
       "2                             Heikkinen, Miss. Laina  female  14.0      0   \n",
       "3       Futrelle, Mrs. Jacques Heath (Lily May Peel)  female  27.0      1   \n",
       "4                           Allen, Mr. William Henry    male  63.0      0   \n",
       "\n",
       "   Parch            Ticket     Fare Cabin Embarked  \n",
       "0      0         A/5 21171   7.2500   NaN        S  \n",
       "1      0          PC 17599  71.2833   C85        C  \n",
       "2      0  STON/O2. 3101282   7.9250   NaN        S  \n",
       "3      0            113803  53.1000  C123        S  \n",
       "4      0            373450   8.0500   NaN        S  "
      ]
     },
     "execution_count": 63,
     "metadata": {},
     "output_type": "execute_result"
    }
   ],
   "source": [
    "file_path = 'titanic_data.csv'  #change path accordingly\n",
    "df = pd.read_csv(file_path)\n",
    "df.head()"
   ]
  },
  {
   "cell_type": "code",
   "execution_count": null,
   "metadata": {},
   "outputs": [],
   "source": []
  },
  {
   "cell_type": "markdown",
   "metadata": {
    "colab_type": "text",
    "id": "D0h2DrLGmhfT"
   },
   "source": [
    "**Part A**: Consider the two claims: class warfare, and male chivalry. Suppose that class warfare occurred in the final hours aboard the Titanic.  What patterns might you expect to see in the data?  Suppose that male chivalry was widespread during the final hours instead. What patterns might you then expect to see in the data?  Explain both of these hypothesized patterns in words. Are these two hypotheses mutually exclusive or not?"
   ]
  },
  {
   "cell_type": "markdown",
   "metadata": {
    "colab_type": "text",
    "id": "30B7DPg9mhfT"
   },
   "source": [
    "If class warfare occured in the final hours aboard the Titanic, we would see more people with first-class tickets alive.\n",
    "\n",
    "If male chivalry occured in the final hours aboard the Titanic, we would see less men alive."
   ]
  },
  {
   "cell_type": "markdown",
   "metadata": {
    "colab_type": "text",
    "id": "wzAEg0ItmhfT"
   },
   "source": [
    "**Part B**: Use Pandas methods to create a clean data set by removing any rows from the DataFrame that are missing values corresponding to **Survived**, **Pclass**, **Age**, or **Sex**. Store the clean data in a DataFrame called dfTitanic. Be sure to show any exploratory work determining if/where there are rows with missing values."
   ]
  },
  {
   "cell_type": "code",
   "execution_count": 64,
   "metadata": {
    "colab": {},
    "colab_type": "code",
    "id": "vEs7diGlmhfU"
   },
   "outputs": [],
   "source": [
    "# Your code here.\n",
    "dfTitanic = df.dropna(subset=['Survived', 'Pclass', 'Age', 'Sex'])"
   ]
  },
  {
   "cell_type": "markdown",
   "metadata": {
    "colab_type": "text",
    "id": "z_7fYhBJmhfV"
   },
   "source": [
    "**Part C**: Compute the fraction of survivors according to class and gender. There are 3 passenger classes and 2 sexes in the data set, so you should report all 6 possible combinations.  Then, answer 3 questions:\n",
    "* **(i)** Within each passenger class, were men or women more/less/equally likely to survive?\n",
    "* **(ii)**  Looking at only the male or only the female passengers, how is passenger class related to the category's survival rate?\n",
    "* **(iii)**  Did men in first class or women in third class have a higher survival rate? "
   ]
  },
  {
   "cell_type": "code",
   "execution_count": 65,
   "metadata": {
    "colab": {},
    "colab_type": "code",
    "id": "_NwlgiiOmhfW"
   },
   "outputs": [
    {
     "data": {
      "text/html": [
       "<div>\n",
       "<style scoped>\n",
       "    .dataframe tbody tr th:only-of-type {\n",
       "        vertical-align: middle;\n",
       "    }\n",
       "\n",
       "    .dataframe tbody tr th {\n",
       "        vertical-align: top;\n",
       "    }\n",
       "\n",
       "    .dataframe thead th {\n",
       "        text-align: right;\n",
       "    }\n",
       "</style>\n",
       "<table border=\"1\" class=\"dataframe\">\n",
       "  <thead>\n",
       "    <tr style=\"text-align: right;\">\n",
       "      <th></th>\n",
       "      <th></th>\n",
       "      <th>Survived</th>\n",
       "      <th>People</th>\n",
       "      <th>Fraction of People Survived</th>\n",
       "    </tr>\n",
       "    <tr>\n",
       "      <th>Sex</th>\n",
       "      <th>Pclass</th>\n",
       "      <th></th>\n",
       "      <th></th>\n",
       "      <th></th>\n",
       "    </tr>\n",
       "  </thead>\n",
       "  <tbody>\n",
       "    <tr>\n",
       "      <td rowspan=\"3\" valign=\"top\">female</td>\n",
       "      <td>1</td>\n",
       "      <td>72</td>\n",
       "      <td>75</td>\n",
       "      <td>0.960000</td>\n",
       "    </tr>\n",
       "    <tr>\n",
       "      <td>2</td>\n",
       "      <td>54</td>\n",
       "      <td>58</td>\n",
       "      <td>0.931034</td>\n",
       "    </tr>\n",
       "    <tr>\n",
       "      <td>3</td>\n",
       "      <td>62</td>\n",
       "      <td>118</td>\n",
       "      <td>0.525424</td>\n",
       "    </tr>\n",
       "    <tr>\n",
       "      <td rowspan=\"3\" valign=\"top\">male</td>\n",
       "      <td>1</td>\n",
       "      <td>36</td>\n",
       "      <td>93</td>\n",
       "      <td>0.387097</td>\n",
       "    </tr>\n",
       "    <tr>\n",
       "      <td>2</td>\n",
       "      <td>16</td>\n",
       "      <td>87</td>\n",
       "      <td>0.183908</td>\n",
       "    </tr>\n",
       "    <tr>\n",
       "      <td>3</td>\n",
       "      <td>39</td>\n",
       "      <td>283</td>\n",
       "      <td>0.137809</td>\n",
       "    </tr>\n",
       "  </tbody>\n",
       "</table>\n",
       "</div>"
      ],
      "text/plain": [
       "               Survived  People  Fraction of People Survived\n",
       "Sex    Pclass                                               \n",
       "female 1             72      75                     0.960000\n",
       "       2             54      58                     0.931034\n",
       "       3             62     118                     0.525424\n",
       "male   1             36      93                     0.387097\n",
       "       2             16      87                     0.183908\n",
       "       3             39     283                     0.137809"
      ]
     },
     "execution_count": 65,
     "metadata": {},
     "output_type": "execute_result"
    }
   ],
   "source": [
    "# Your code here.\n",
    "sexSurvived = dfTitanic.loc[:, [\"Survived\", \"Pclass\", \"Sex\"]]\n",
    "sexSurvived[\"People\"] = 1     \n",
    "\n",
    "peopleSurvived = sexSurvived.groupby([\"Sex\", \"Pclass\"]).sum()\n",
    "\n",
    "peopleSurvived[\"Fraction of People Survived\"] = peopleSurvived[\"Survived\"] / peopleSurvived[\"People\"]\n",
    "\n",
    "peopleSurvived.head(6)"
   ]
  },
  {
   "cell_type": "markdown",
   "metadata": {
    "colab_type": "text",
    "id": "fbLmJtPymhfY"
   },
   "source": [
    "Within each passenger class, women were more likely to survived when compared to men in every class.\n",
    "\n",
    "Passengers in classes 1 and 2 had similar survival rates, which were much higher than passengers in class 3.\n",
    "\n",
    "Women in third class had a higher survival rate than men in first class."
   ]
  },
  {
   "cell_type": "markdown",
   "metadata": {
    "colab_type": "text",
    "id": "hdHUBAQwmhfY"
   },
   "source": [
    "**Part D**: Plot a histogram of all of the passenger ages, using the bin edges $[0,5,10,\\ldots,70,75,80]$ defined by `my_bins` below. How would you characterize the distribution of **AGE**? (By _characterize_ we mean that you should indicate whether the data are unimodal, bimodal, multimodal, symmetric, negatively skewed, positively skewed, etc.)  Be sure to label your axes and use your figure to justify your conclusions."
   ]
  },
  {
   "cell_type": "code",
   "execution_count": 66,
   "metadata": {
    "colab": {},
    "colab_type": "code",
    "id": "vsQJVZbpmhfY"
   },
   "outputs": [],
   "source": [
    "my_bins = range(0,85,5)"
   ]
  },
  {
   "cell_type": "code",
   "execution_count": 67,
   "metadata": {
    "colab": {},
    "colab_type": "code",
    "id": "cuxjID9Amhfb"
   },
   "outputs": [
    {
     "data": {
      "text/plain": [
       "Text(0.5, 0, 'Age')"
      ]
     },
     "execution_count": 67,
     "metadata": {},
     "output_type": "execute_result"
    },
    {
     "data": {
      "image/png": "[encoded data removed]",
      "text/plain": [
       "<Figure size 432x288 with 1 Axes>"
      ]
     },
     "metadata": {
      "needs_background": "light"
     },
     "output_type": "display_data"
    }
   ],
   "source": [
    "# Your code here.\n",
    "dfTitanic.hist(column=\"Age\", bins = my_bins)\n",
    "plt.title('Frequency of Passenger Ages')\n",
    "plt.ylabel('Frequency')\n",
    "plt.xlabel('Age')"
   ]
  },
  {
   "cell_type": "markdown",
   "metadata": {
    "colab_type": "text",
    "id": "3ZikT9MImhfc"
   },
   "source": [
    "I would characterize the distribution of age as mostly unimodal and slightly positively skewed.\n",
    "\n",
    "It is unimodal as it has a clear peak with dropoffs on either end.\n",
    "\n",
    "It is positively skewed as the data peaks not in the center of the range, but to the left (or smaller)."
   ]
  },
  {
   "cell_type": "markdown",
   "metadata": {
    "colab_type": "text",
    "id": "R_FwewNbmhfd"
   },
   "source": [
    "**Part E**: One might wonder how a passenger's age is related to the likelihood that they would survive the Titanic disaster. To answer this question graphically, plot two density histograms on the same set of axes, showing the distribution of the ages of passengers who survived, and the distribution of the ages of passengers who did not. \n",
    "* Use the bin edges $[0,5,10,\\ldots,70,75,80]$ for both histograms.\n",
    "* This problem is about a *ship* sinking in the *ocean*, so use **coral** and **seagreen** as the facecolors for your histogram boxes.\n",
    "* Plot both histograms on a single set of axes (there should be only one panel in the figure you create), but use Matplotlib/Pandas plotting functionality to make the faces of the histogram boxes somewhat transparent, so both histograms are visible.\n",
    "* Include a legend and label your axes.\n",
    "* Comment on the results. Does your figure suggest that some age ranges are more or less likely to have survived the disaster than other ages? Fully explain your reasoning and use your figure to justify your conclusions.\n",
    "* If you noticed some relationship between age and likelihood of survival, what is one possible explanation?"
   ]
  },
  {
   "cell_type": "code",
   "execution_count": 68,
   "metadata": {
    "colab": {},
    "colab_type": "code",
    "id": "FNJdX-yFmhfd"
   },
   "outputs": [
    {
     "data": {
      "image/png": "[encoded data removed]",
      "text/plain": [
       "<Figure size 432x288 with 1 Axes>"
      ]
     },
     "metadata": {
      "needs_background": "light"
     },
     "output_type": "display_data"
    }
   ],
   "source": [
    "# Your code here.\n",
    "my_bins = range(0,85,5)\n",
    "\n",
    "fig, ax = plt.subplots()\n",
    "\n",
    "dfTitanic.loc[dfTitanic[\"Survived\"] == 1].hist(column=\"Age\", ax = ax, facecolor= \"coral\", alpha = .2, density = True, bins = my_bins, label = \"Alive\")\n",
    "dfTitanic.loc[dfTitanic[\"Survived\"] == 0].hist(column=\"Age\", ax = ax, facecolor= \"seagreen\", alpha = .2, density = True, bins = my_bins, label = \"Dead\")\n",
    "\n",
    "ax.legend()\n",
    "ax.set_title(\"Frequency of Survival or Death by Age\")\n",
    "ax.set_ylabel(\"Frequency\")\n",
    "ax.set_xlabel(\"Age\");"
   ]
  },
  {
   "cell_type": "markdown",
   "metadata": {
    "colab_type": "text",
    "id": "OoEHEgF2mhff"
   },
   "source": []
  },
  {
   "cell_type": "markdown",
   "metadata": {
    "colab_type": "text",
    "id": "hU3Y4WEqmhff"
   },
   "source": [
    "**Part F:** In Part E, we plotted two *density* histograms, showing the distributions of ages of passengers that survived or did not survive the Titanic disaster. Why would it be misleading for us to have plotted these as *frequency* histograms instead?"
   ]
  },
  {
   "cell_type": "markdown",
   "metadata": {
    "colab_type": "text",
    "id": "tYArO-FMmhfg"
   },
   "source": [
    "It would be misleading for us to have plotted these as frequency histograms due there being many more deaths than there were survivors. Thus, the deaths would be much more apparent than the survivors. Actually running the histogram like this, the survivors are not noticable."
   ]
  },
  {
   "cell_type": "markdown",
   "metadata": {
    "colab_type": "text",
    "id": "eO5fYjHfmhfg"
   },
   "source": [
    "**Part G**: Do the data suggest class warfare, male chivalry, or some combination of both characteristics in the final hours aboard the Titanic?  Justify your conclusion based on the computations done above, or do any other analysis that you like, but be sure to clearly justify your conclusion."
   ]
  },
  {
   "cell_type": "markdown",
   "metadata": {
    "colab_type": "text",
    "id": "NkpQMWKPmhfg"
   },
   "source": [
    "The data suggests that there is a combination of class warfare and male chivalry. There is no female class that has a lower fraction of survival than the best fraction of survival in the men's classes. There is also a large discrepancy in what classes had a better chance of survival. Being in first or second class granted a much higher fraction of survivability than being in third class. This disrepancy was not nearly as noticable in the gap between first and second class, whos fractions were very close."
   ]
  },
  {
   "cell_type": "markdown",
   "metadata": {
    "colab_type": "text",
    "id": "fZzo9MwEmhfh"
   },
   "source": [
    "[Back to top](#top)\n",
    "<a id='p4'></a>\n",
    "\n",
    "## (25 pts) Problem 4 (Snowfall in Boulder)\n",
    "***\n",
    "\n",
    "The NOAA Earth System Research Laboratory (ESRL) Physical Sciences Division (PSD) conducts scientific research to observe, understand, model, predict, and forecast weather, water, and climate extremes and their impacts. They have a website with publicly available data. One such data set contains monthly snowfall for Boulder dating back to 1889 (https://www.esrl.noaa.gov/psd/boulder/bouldersnow.html). Load ‘Boulder_Snowfall.csv’ from the Canvas page. \n",
    "\n",
    "**Part A:** To start, we need to “clean” our data set. When the amount of snow was nonzero, but too small to be recorded, this data set recorded ‘T’. Replace those instances with zeros. AFTER, you've done that, remove any rows (which correspond to years) with missing data. As a check, if you've cleaned the file correctly, there should be 121 rows remaining. "
   ]
  },
  {
   "cell_type": "code",
   "execution_count": 69,
   "metadata": {
    "colab": {},
    "colab_type": "code",
    "id": "cAM9M-vCmhfh"
   },
   "outputs": [
    {
     "name": "stdout",
     "output_type": "stream",
     "text": [
      "121\n"
     ]
    },
    {
     "data": {
      "text/html": [
       "<div>\n",
       "<style scoped>\n",
       "    .dataframe tbody tr th:only-of-type {\n",
       "        vertical-align: middle;\n",
       "    }\n",
       "\n",
       "    .dataframe tbody tr th {\n",
       "        vertical-align: top;\n",
       "    }\n",
       "\n",
       "    .dataframe thead th {\n",
       "        text-align: right;\n",
       "    }\n",
       "</style>\n",
       "<table border=\"1\" class=\"dataframe\">\n",
       "  <thead>\n",
       "    <tr style=\"text-align: right;\">\n",
       "      <th></th>\n",
       "      <th>Year</th>\n",
       "      <th>Jan</th>\n",
       "      <th>Feb</th>\n",
       "      <th>Mar</th>\n",
       "      <th>Apr</th>\n",
       "      <th>May</th>\n",
       "      <th>Jun</th>\n",
       "      <th>Jul</th>\n",
       "      <th>Aug</th>\n",
       "      <th>Sep</th>\n",
       "      <th>Oct</th>\n",
       "      <th>Nov</th>\n",
       "      <th>Dec</th>\n",
       "      <th>Total Sep-Jun</th>\n",
       "      <th>Total Jan-Dec</th>\n",
       "    </tr>\n",
       "  </thead>\n",
       "  <tbody>\n",
       "    <tr>\n",
       "      <td>6</td>\n",
       "      <td>1898</td>\n",
       "      <td>7</td>\n",
       "      <td>4.2</td>\n",
       "      <td>7.5</td>\n",
       "      <td>8.2</td>\n",
       "      <td>13</td>\n",
       "      <td>0</td>\n",
       "      <td>0</td>\n",
       "      <td>0</td>\n",
       "      <td>1</td>\n",
       "      <td>5</td>\n",
       "      <td>23.5</td>\n",
       "      <td>18</td>\n",
       "      <td>63.1</td>\n",
       "      <td>87.4</td>\n",
       "    </tr>\n",
       "    <tr>\n",
       "      <td>7</td>\n",
       "      <td>1899</td>\n",
       "      <td>13</td>\n",
       "      <td>15.2</td>\n",
       "      <td>31</td>\n",
       "      <td>8</td>\n",
       "      <td>0</td>\n",
       "      <td>0</td>\n",
       "      <td>0</td>\n",
       "      <td>0</td>\n",
       "      <td>0</td>\n",
       "      <td>2</td>\n",
       "      <td>0</td>\n",
       "      <td>12.8</td>\n",
       "      <td>114.7</td>\n",
       "      <td>82</td>\n",
       "    </tr>\n",
       "    <tr>\n",
       "      <td>8</td>\n",
       "      <td>1900</td>\n",
       "      <td>4.5</td>\n",
       "      <td>14.8</td>\n",
       "      <td>6.8</td>\n",
       "      <td>20</td>\n",
       "      <td>0</td>\n",
       "      <td>0</td>\n",
       "      <td>0</td>\n",
       "      <td>0</td>\n",
       "      <td>0</td>\n",
       "      <td>0</td>\n",
       "      <td>3.1</td>\n",
       "      <td>9.2</td>\n",
       "      <td>60.9</td>\n",
       "      <td>58.4</td>\n",
       "    </tr>\n",
       "    <tr>\n",
       "      <td>9</td>\n",
       "      <td>1901</td>\n",
       "      <td>7.5</td>\n",
       "      <td>6.2</td>\n",
       "      <td>18.5</td>\n",
       "      <td>26</td>\n",
       "      <td>0</td>\n",
       "      <td>0</td>\n",
       "      <td>0</td>\n",
       "      <td>0</td>\n",
       "      <td>0</td>\n",
       "      <td>4</td>\n",
       "      <td>0</td>\n",
       "      <td>15</td>\n",
       "      <td>70.5</td>\n",
       "      <td>77.2</td>\n",
       "    </tr>\n",
       "    <tr>\n",
       "      <td>10</td>\n",
       "      <td>1902</td>\n",
       "      <td>7.2</td>\n",
       "      <td>6.5</td>\n",
       "      <td>9.5</td>\n",
       "      <td>3</td>\n",
       "      <td>0</td>\n",
       "      <td>0</td>\n",
       "      <td>0</td>\n",
       "      <td>0</td>\n",
       "      <td>0</td>\n",
       "      <td>0.5</td>\n",
       "      <td>8</td>\n",
       "      <td>17</td>\n",
       "      <td>45.2</td>\n",
       "      <td>51.7</td>\n",
       "    </tr>\n",
       "  </tbody>\n",
       "</table>\n",
       "</div>"
      ],
      "text/plain": [
       "    Year  Jan   Feb   Mar  Apr May Jun Jul Aug Sep  Oct   Nov   Dec  \\\n",
       "6   1898    7   4.2   7.5  8.2  13   0   0   0   1    5  23.5    18   \n",
       "7   1899   13  15.2    31    8   0   0   0   0   0    2     0  12.8   \n",
       "8   1900  4.5  14.8   6.8   20   0   0   0   0   0    0   3.1   9.2   \n",
       "9   1901  7.5   6.2  18.5   26   0   0   0   0   0    4     0    15   \n",
       "10  1902  7.2   6.5   9.5    3   0   0   0   0   0  0.5     8    17   \n",
       "\n",
       "   Total Sep-Jun Total Jan-Dec  \n",
       "6           63.1          87.4  \n",
       "7          114.7            82  \n",
       "8           60.9          58.4  \n",
       "9           70.5          77.2  \n",
       "10          45.2          51.7  "
      ]
     },
     "execution_count": 69,
     "metadata": {},
     "output_type": "execute_result"
    }
   ],
   "source": [
    "# Your code here.\n",
    "wTable = pd.read_csv(\"Boulder_Snowfall.csv\")\n",
    "\n",
    "wTable = wTable.replace('T', 0, regex = True)\n",
    "\n",
    "wTable = wTable.replace(\"(?<![0-9])[.](?![0-9])\", np.NaN, regex = True)\n",
    "\n",
    "wTable = wTable.dropna()\n",
    "\n",
    "print(len(wTable))\n",
    "\n",
    "wTable.head()"
   ]
  },
  {
   "cell_type": "markdown",
   "metadata": {
    "colab_type": "text",
    "id": "yKsf4Bx3mhfj"
   },
   "source": [
    "**Part B:** Plot the last column of data, “Total Jan-Dec”, from the cleaned data set. Label your axes. Do you observe any trends? Discuss.\n",
    "\n",
    "[Note: Make sure that your x-axis tick labels are in years and are readable. You may have to play around with formatting the ticklabels. plt.MaxNLocator might be helpful depending on how you plotted your data.] "
   ]
  },
  {
   "cell_type": "code",
   "execution_count": 70,
   "metadata": {
    "colab": {},
    "colab_type": "code",
    "id": "X5qa--ihmhfj"
   },
   "outputs": [
    {
     "data": {
      "image/png": "[encoded data removed]",
      "text/plain": [
       "<Figure size 432x288 with 1 Axes>"
      ]
     },
     "metadata": {
      "needs_background": "light"
     },
     "output_type": "display_data"
    }
   ],
   "source": [
    "# Your code here.\n",
    "wTable = pd.read_csv(\"Boulder_Snowfall.csv\")\n",
    "\n",
    "wTable = wTable.replace('T', 0, regex = True)\n",
    "wTable = wTable.replace(\"(?<![0-9])[.](?![0-9])\", np.NaN, regex = True)\n",
    "wTable = wTable.dropna()\n",
    "\n",
    "wTable2 = wTable[\"Year\"].astype(int)\n",
    "wTable3 = wTable[\"Total Jan-Dec\"].astype(float)\n",
    "\n",
    "wTable4 = pd.DataFrame(list(zip(wTable2, wTable3)), columns =['Year', 'Total Jan-Dec'])\n",
    "\n",
    "ax = wTable4.plot('Year', 'Total Jan-Dec')\n",
    "ax.set_ylabel(\"Snowfall in Inches\")\n",
    "ax.set_xlabel(\"Year\")\n",
    "ax.set_title(\"Snowfall per Year\")\n",
    "ax.get_legend().remove()\n",
    "wTable = wTable.apply (pd.to_numeric);"
   ]
  },
  {
   "cell_type": "markdown",
   "metadata": {
    "colab_type": "text",
    "id": "YRxROvLdmhfl"
   },
   "source": [
    "**Part C:** Using your cleaned data set, create a histogram of the yearly snowfall. Bin your data with a bin-width of 5 inches, starting at 35 inches. Make the edgecolor of your graph white. What is the most common amount of snow to get in a year? How does this compare with how much snow we got in 2019? "
   ]
  },
  {
   "cell_type": "code",
   "execution_count": 71,
   "metadata": {
    "colab": {},
    "colab_type": "code",
    "id": "wVdtiUCxmhfl"
   },
   "outputs": [
    {
     "data": {
      "image/png": "[encoded data removed]",
      "text/plain": [
       "<Figure size 432x288 with 1 Axes>"
      ]
     },
     "metadata": {
      "needs_background": "light"
     },
     "output_type": "display_data"
    }
   ],
   "source": [
    "# Your code here.\n",
    "\n",
    "my_bins = range(35, 165, 5)\n",
    "\n",
    "var = wTable4['Total Jan-Dec']\n",
    "\n",
    "fig, ax = plt.subplots()\n",
    "plt.hist(var, bins = my_bins, edgecolor = 'white');\n",
    "ax.set_title(\"Frequency of Snowfall Inches in a Year\")\n",
    "ax.set_ylabel(\"Frequency of Snowfall Inches\")\n",
    "ax.set_xlabel(\"Inches of Snow in a Year\");"
   ]
  },
  {
   "cell_type": "markdown",
   "metadata": {
    "colab_type": "text",
    "id": "QhG84xfTmhfo"
   },
   "source": [
    "The most common amount of snow to get in a year is 75 inches. In 2019, there were 122.2 inches of snow."
   ]
  },
  {
   "cell_type": "markdown",
   "metadata": {
    "colab_type": "text",
    "id": "af9s27tnmhfo"
   },
   "source": [
    "**Part D:** Generate a series of 12 box plots to represent each decade starting in 1900, using your cleaned data set. Orient the box plots so that the decades (‘1900-1909’, ‘1910-1919’, … , ‘2010-2019’) appear along the x-axis, and the y-axis shows the amount of snowfall. Have all 12 boxplots as part of one graph. Include appropriate labels to your axes and a title, so that if someone not in our class were to look at your plots, they would understand what they were looking at. \n",
    "\n",
    "[Note: Data from the year 2004 was dropped during the initial cleaning of the data set (or should have been). Keep this in mind when plotting data from the 2000-2009 decade.]"
   ]
  },
  {
   "cell_type": "code",
   "execution_count": 72,
   "metadata": {
    "colab": {},
    "colab_type": "code",
    "id": "Lc8DmooJmhfo"
   },
   "outputs": [
    {
     "data": {
      "image/png": "[encoded data removed]",
      "text/plain": [
       "<Figure size 576x288 with 1 Axes>"
      ]
     },
     "metadata": {
      "needs_background": "light"
     },
     "output_type": "display_data"
    }
   ],
   "source": [
    "# Your code here.\n",
    "\n",
    "begDec = (wTable.loc[wTable[\"Year\"] == 1900]).index[0]\n",
    "endDec = begDec + 10\n",
    "\n",
    "tenS = []\n",
    "for i in range(1, 11):\n",
    "    tenS.append(np.array(wTable.iloc[begDec:endDec, - 1]))\n",
    "    begDec = endDec\n",
    "    endDec = begDec+10\n",
    "\n",
    "yearE = np.array(wTable.iloc[begDec:endDec - 1, - 1])\n",
    "tenS.append(yearE)\n",
    "    \n",
    "begDec = endDec - 1\n",
    "endDec = begDec + 10\n",
    "yearF= np.array(wTable.iloc[begDec:endDec, - 1])\n",
    "tenS.append(yearF)\n",
    "    \n",
    "fig, ax = plt.subplots(figsize = (8, 4))\n",
    "ax.boxplot(tenS)\n",
    "ax.set_xticklabels(['1900s',\n",
    "           '1910s',\n",
    "           '1920s',\n",
    "           '1930s',\n",
    "           '1940s',\n",
    "           '1950s',\n",
    "           '1960s',\n",
    "           '1970s',\n",
    "           '1980s',\n",
    "           '1990s',\n",
    "           '2000s',\n",
    "           '2010s'])\n",
    "\n",
    "ax.set_xlabel('Decades')\n",
    "ax.set_ylabel(\"Snowfall in Inches\")\n",
    "ax.set_title(\"Snowfall per Decade\")\n",
    "\n",
    "plt.show();"
   ]
  },
  {
   "cell_type": "markdown",
   "metadata": {
    "colab_type": "text",
    "id": "MWpfTTHomhfr"
   },
   "source": []
  },
  {
   "cell_type": "markdown",
   "metadata": {
    "colab_type": "text",
    "id": "TX3NK_Atmhfr"
   },
   "source": [
    "\n",
    "**Part E:** Let’s study snowfall in Boulder, in February. Compute the mean February snowfall using your cleaned data set. Next calculate the Tukey 5-number summary for the February snowfall data. Lastly, generate a boxplot for the February snowfall. "
   ]
  },
  {
   "cell_type": "code",
   "execution_count": 73,
   "metadata": {
    "colab": {},
    "colab_type": "code",
    "id": "qfLkBohZmhfr"
   },
   "outputs": [
    {
     "name": "stdout",
     "output_type": "stream",
     "text": [
      "Mean:  11.402479338842976\n",
      "Minimum value:  0.0\n",
      "Quarterly 1:  5.4\n",
      "Median:  9.8\n",
      "Quarterly 3:  16.3\n",
      "Maximum value:  54.6\n"
     ]
    },
    {
     "data": {
      "image/png": "[encoded data removed]",
      "text/plain": [
       "<Figure size 576x288 with 1 Axes>"
      ]
     },
     "metadata": {
      "needs_background": "light"
     },
     "output_type": "display_data"
    }
   ],
   "source": [
    "# Your code here.\n",
    "febMean = np.mean(wTable[\"Feb\"])\n",
    "print(\"Mean: \", febMean)\n",
    "\n",
    "minTurk = np.min(wTable[\"Feb\"])\n",
    "print(\"Minimum value: \", minTurk)\n",
    "\n",
    "sumTurk = wTable[\"Feb\"].describe()\n",
    "print(\"Quarterly 1: \", sumTurk[4])\n",
    "print(\"Median: \", sumTurk[5])\n",
    "print(\"Quarterly 3: \", sumTurk[6])\n",
    "\n",
    "maxTurk = np.max(wTable[\"Feb\"])\n",
    "print(\"Maximum value: \", maxTurk)\n",
    "\n",
    "fig, ax = plt.subplots(figsize = (8, 4))\n",
    "ax.boxplot(wTable[\"Feb\"])\n",
    "ax.set_title(\"Snowfall for the Month of February in Inches\")\n",
    "ax.set_ylabel(\"Snowfall in Inches\")\n",
    "ax.set_xticklabels([\"The Month of February\"]);\n",
    "\n",
    "\n",
    "# quartiles = percentile(wTable[\"Feb\"], [25, 50, 75])\n",
    "# print(quartiles[0])\n",
    "\n",
    "# medTurk = sum(wTable[\"Feb\"])/len(wTable[\"Feb\"])\n",
    "# x = sorted(wTable[\"Feb\"])\n",
    "# y = len(wTable[\"Feb\"])\n",
    "# if y % 2 != 0:\n",
    "#     y = y - 1\n",
    "# arrayMedian = x[int(y/2)]\n",
    "# print(medTurk)\n",
    "\n",
    "# print(len(wTable[\"Feb\"]))\n",
    "\n",
    "# x = (len(wTable[\"Feb\"]))\n",
    "# if x % 2 != 0:\n",
    "#     x = x - 1\n",
    "# quarF = wTable[\"Feb\"][.25*x]\n",
    "# print(quarF)\n",
    "# print(wTable[\"Feb\"][60])"
   ]
  },
  {
   "cell_type": "markdown",
   "metadata": {
    "colab_type": "text",
    "id": "JcGxvoPwmhft"
   },
   "source": []
  },
  {
   "cell_type": "markdown",
   "metadata": {
    "colab_type": "text",
    "id": "ifqaNpXCmhfu"
   },
   "source": [
    "**Part F:** Plot all of the February snowfall with a line plot, using your cleaned data set. How many inches of snow do you predict we will get this February in Boulder? \n",
    "\n",
    "_No credit, but only for fun_ : Now that February is over, compare the predicted value with the original!"
   ]
  },
  {
   "cell_type": "code",
   "execution_count": 74,
   "metadata": {
    "colab": {},
    "colab_type": "code",
    "id": "bQwdmPFomhfu"
   },
   "outputs": [
    {
     "data": {
      "image/png": "[encoded data removed]",
      "text/plain": [
       "<Figure size 432x288 with 1 Axes>"
      ]
     },
     "metadata": {
      "needs_background": "light"
     },
     "output_type": "display_data"
    }
   ],
   "source": [
    "# Your code here.\n",
    "wTable2 = wTable[\"Year\"].astype(int)\n",
    "wTable3 = wTable[\"Feb\"].astype(float)\n",
    "\n",
    "wTable4 = pd.DataFrame(list(zip(wTable2, wTable3)), columns =['Year', 'Feb'])\n",
    "\n",
    "ax = wTable4.plot('Year', 'Feb')\n",
    "ax.set_title(\"Snowfall in February\")\n",
    "ax.set_ylabel(\"Snowfall in Inches\")\n",
    "ax.set_xlabel(\"Year\")\n",
    "ax.get_legend().remove();\n",
    "# print(wTable.loc[wTable[\"Year\"] == 2021])"
   ]
  },
  {
   "cell_type": "markdown",
   "metadata": {
    "colab_type": "text",
    "id": "TttrPelnmhfw"
   },
   "source": [
    "I predict 15 inches of snow this February in Boulder."
   ]
  },
  {
   "cell_type": "markdown",
   "metadata": {
    "colab_type": "text",
    "id": "BGogXtUgmhfw"
   },
   "source": [
    "[Back to top](#top)\n",
    "<a id='p5'></a>\n",
    "\n",
    "## (15 pts) Problem 5\n",
    "***\n",
    "Consider the following 3 data sets:\n",
    "\n",
    "`A=[8, 6, 7, 5, 3, 0, 9]`\n",
    "\n",
    "`B=[2, 29, 84, 2, 10, 69, 3, 31, 18]`\n",
    "\n",
    "`C` is the random data set generated by using `np.random.randint(0,1000, size=100)`\n",
    "\n",
    "For each data set, perform the following computations:\n",
    "\n",
    "**Part A:** Compute and print the mean and standard deviation of the data set. You may use built-in python functions."
   ]
  },
  {
   "cell_type": "code",
   "execution_count": 75,
   "metadata": {
    "colab": {},
    "colab_type": "code",
    "id": "Y5mBVN_2mhfx"
   },
   "outputs": [
    {
     "name": "stdout",
     "output_type": "stream",
     "text": [
      "A's mean:  5.428571428571429\n",
      "A's standard seviation:  2.8713930346059686\n",
      "B's mean:  27.555555555555557\n",
      "B's standard seviation:  28.335729746151124\n",
      "C's mean:  450.51\n",
      "C's standard seviation:  278.8555358962773\n"
     ]
    }
   ],
   "source": [
    "# Your code here.\n",
    "arrayA = [8, 6, 7, 5, 3, 0, 9]\n",
    "arrayB = [2, 29, 84, 2, 10, 69, 3, 31, 18]\n",
    "arrayC = np.random.randint(0,1000, size=100)\n",
    "\n",
    "aMean = np.mean(arrayA)\n",
    "print(\"A's mean: \", aMean)\n",
    "aStdv = np.std(arrayA)\n",
    "print(\"A's standard seviation: \", aStdv)\n",
    "\n",
    "bMean = np.mean(arrayB)\n",
    "print(\"B's mean: \", bMean)\n",
    "bStdv = np.std(arrayB)\n",
    "print(\"B's standard seviation: \", bStdv)\n",
    "\n",
    "cMean = np.mean(arrayC)\n",
    "print(\"C's mean: \", cMean)\n",
    "cStdv = np.std(arrayC)\n",
    "print(\"C's standard seviation: \", cStdv)\n",
    "\n",
    "# # Your code here.\n",
    "# array = [8, 6, 7, 5, 3, 0, 9]\n",
    "# arrayMean = sum(array)/len(array)\n",
    "# x = 0\n",
    "\n",
    "# for item in array:\n",
    "#     x = x + ((item-arrayMean)**2)\n",
    "\n",
    "# arrayVar = x/(len(array))\n",
    "# arrayDev = np.sqrt(arrayVar)\n",
    "\n",
    "# arrayVar2 = x/(len(array))\n",
    "# arrayDev2 = np.sqrt(arrayVar)\n",
    "\n",
    "# print(arrayVar2, arrayDev2)"
   ]
  },
  {
   "cell_type": "markdown",
   "metadata": {
    "colab_type": "text",
    "id": "MRRagOuomhfz"
   },
   "source": [
    "**Part B:** Compute and print  the mean and standard deviation of the new data set formed by subtracting the original mean from each observation."
   ]
  },
  {
   "cell_type": "code",
   "execution_count": 76,
   "metadata": {
    "colab": {},
    "colab_type": "code",
    "id": "hxqs-Ttzmhfz"
   },
   "outputs": [
    {
     "name": "stdout",
     "output_type": "stream",
     "text": [
      "A's mean:  -2.5376526277146434e-16\n",
      "A's standard seviation:  2.8713930346059686\n",
      "B's mean:  -1.578983857244667e-15\n",
      "B's standard seviation:  28.335729746151124\n",
      "C's mean:  1.1368683772161604e-14\n",
      "C's standard seviation:  278.8555358962773\n"
     ]
    }
   ],
   "source": [
    "# Your code here.\n",
    "ndsA = arrayA - aMean\n",
    "ndsB = arrayB - bMean\n",
    "ndsC = arrayC - cMean\n",
    "\n",
    "naMean = np.mean(ndsA)\n",
    "print(\"A's mean: \", naMean)\n",
    "naStdv = np.std(ndsA)\n",
    "print(\"A's standard seviation: \", naStdv)\n",
    "\n",
    "nbMean = np.mean(ndsB)\n",
    "print(\"B's mean: \", nbMean)\n",
    "nbStdv = np.std(ndsB)\n",
    "print(\"B's standard seviation: \", nbStdv)\n",
    "\n",
    "ncMean = np.mean(ndsC)\n",
    "print(\"C's mean: \", ncMean)\n",
    "ncStdv = np.std(ndsC)\n",
    "print(\"C's standard seviation: \", ncStdv)"
   ]
  },
  {
   "cell_type": "markdown",
   "metadata": {
    "colab_type": "text",
    "id": "krdmc5gPmhf1"
   },
   "source": [
    "**Part C:** Compute and print  the mean and standard deviation of the new data set formed by subtracting the original mean from each observation and then dividing by the original standard deviation."
   ]
  },
  {
   "cell_type": "code",
   "execution_count": 77,
   "metadata": {
    "colab": {},
    "colab_type": "code",
    "id": "CWELZi5Zmhf1"
   },
   "outputs": [
    {
     "name": "stdout",
     "output_type": "stream",
     "text": [
      "A's mean:  -6.344131569286608e-17\n",
      "A's standard seviation:  1.0\n",
      "B's mean:  -3.0839528461809905e-17\n",
      "B's standard seviation:  1.0\n",
      "C's mean:  3.3306690738754695e-17\n",
      "C's standard seviation:  1.0\n"
     ]
    }
   ],
   "source": [
    "# Your code here.\n",
    "fA = ndsA / aStdv\n",
    "fB = ndsB / bStdv\n",
    "fC = ndsC / cStdv\n",
    "\n",
    "faMean = np.mean(fA)\n",
    "print(\"A's mean: \", faMean)\n",
    "faStdv = np.std(fA)\n",
    "print(\"A's standard seviation: \", faStdv)\n",
    "\n",
    "fbMean = np.mean(fB)\n",
    "print(\"B's mean: \", fbMean)\n",
    "fbStdv = np.std(fB)\n",
    "print(\"B's standard seviation: \", fbStdv)\n",
    "\n",
    "fcMean = np.mean(fC)\n",
    "print(\"C's mean: \", fcMean)\n",
    "fcStdv = np.std(fC)\n",
    "print(\"C's standard seviation: \", fcStdv)"
   ]
  },
  {
   "cell_type": "markdown",
   "metadata": {
    "colab_type": "text",
    "id": "VpDKUkjtmhf3"
   },
   "source": [
    "**Part D:** Why might this result matter?"
   ]
  },
  {
   "cell_type": "markdown",
   "metadata": {
    "colab_type": "text",
    "id": "hcdZLscWmhf4"
   },
   "source": [
    "We have standardized the data set. Doing this allow for the data to be compared to other standardized data."
   ]
  }
 ],
 "metadata": {
  "colab": {
   "name": "HW1_Lastname_Firstname.ipynb",
   "provenance": [],
   "toc_visible": true
  },
  "kernelspec": {
   "display_name": "Python 3",
   "language": "python",
   "name": "python3"
  },
  "language_info": {
   "codemirror_mode": {
    "name": "ipython",
    "version": 3
   },
   "file_extension": ".py",
   "mimetype": "text/x-python",
   "name": "python",
   "nbconvert_exporter": "python",
   "pygments_lexer": "ipython3",
   "version": "3.8.5"
  }
 },
 "nbformat": 4,
 "nbformat_minor": 4
}
